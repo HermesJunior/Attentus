{
 "cells": [
  {
   "cell_type": "code",
   "execution_count": 99,
   "id": "fb3e8f24",
   "metadata": {},
   "outputs": [],
   "source": [
    "import pandas as pd\n",
    "import numpy as np \n",
    "import os\n",
    "import matplotlib.pyplot as plt\n",
    "from mmq import metodo_minimos_quadrados"
   ]
  },
  {
   "cell_type": "code",
   "execution_count": 100,
   "id": "52e3008c",
   "metadata": {},
   "outputs": [
    {
     "data": {
      "application/vnd.microsoft.datawrangler.viewer.v0+json": {
       "columns": [
        {
         "name": "index",
         "rawType": "int64",
         "type": "integer"
        },
        {
         "name": "rotulo",
         "rawType": "int64",
         "type": "integer"
        },
        {
         "name": "hora_inicio",
         "rawType": "object",
         "type": "unknown"
        },
        {
         "name": "hora_fim",
         "rawType": "object",
         "type": "unknown"
        },
        {
         "name": "numero_medio_ligantes",
         "rawType": "int64",
         "type": "integer"
        }
       ],
       "ref": "dc9cffc0-4f0e-4df3-8070-57fea85edc39",
       "rows": [
        [
         "0",
         "1",
         "00:00:00",
         "00:15:00",
         "601"
        ],
        [
         "1",
         "2",
         "00:15:00",
         "00:30:00",
         "190"
        ],
        [
         "2",
         "3",
         "00:30:00",
         "00:45:00",
         "180"
        ],
        [
         "3",
         "4",
         "00:45:00",
         "01:00:00",
         "177"
        ],
        [
         "4",
         "5",
         "01:00:00",
         "01:15:00",
         "162"
        ],
        [
         "5",
         "6",
         "01:15:00",
         "01:30:00",
         "110"
        ],
        [
         "6",
         "7",
         "01:30:00",
         "01:45:00",
         "99"
        ],
        [
         "7",
         "8",
         "01:45:00",
         "02:00:00",
         "108"
        ],
        [
         "8",
         "9",
         "02:00:00",
         "02:15:00",
         "97"
        ],
        [
         "9",
         "10",
         "02:15:00",
         "02:30:00",
         "77"
        ],
        [
         "10",
         "11",
         "02:30:00",
         "02:45:00",
         "75"
        ],
        [
         "11",
         "12",
         "02:45:00",
         "03:00:00",
         "76"
        ],
        [
         "12",
         "13",
         "03:00:00",
         "03:15:00",
         "79"
        ],
        [
         "13",
         "14",
         "03:15:00",
         "03:30:00",
         "46"
        ],
        [
         "14",
         "15",
         "03:30:00",
         "03:45:00",
         "45"
        ],
        [
         "15",
         "16",
         "03:45:00",
         "04:00:00",
         "42"
        ],
        [
         "16",
         "17",
         "04:00:00",
         "04:15:00",
         "49"
        ],
        [
         "17",
         "18",
         "04:15:00",
         "04:30:00",
         "45"
        ],
        [
         "18",
         "19",
         "04:30:00",
         "04:45:00",
         "44"
        ],
        [
         "19",
         "20",
         "04:45:00",
         "05:00:00",
         "49"
        ],
        [
         "20",
         "21",
         "05:00:00",
         "05:15:00",
         "57"
        ],
        [
         "21",
         "22",
         "05:15:00",
         "05:30:00",
         "52"
        ],
        [
         "22",
         "23",
         "05:30:00",
         "05:45:00",
         "51"
        ],
        [
         "23",
         "24",
         "05:45:00",
         "06:00:00",
         "49"
        ],
        [
         "24",
         "25",
         "06:00:00",
         "06:15:00",
         "97"
        ],
        [
         "25",
         "26",
         "06:15:00",
         "06:30:00",
         "132"
        ],
        [
         "26",
         "27",
         "06:30:00",
         "06:45:00",
         "141"
        ],
        [
         "27",
         "28",
         "06:45:00",
         "07:00:00",
         "155"
        ],
        [
         "28",
         "29",
         "07:00:00",
         "07:15:00",
         "630"
        ],
        [
         "29",
         "30",
         "07:15:00",
         "07:30:00",
         "634"
        ],
        [
         "30",
         "31",
         "07:30:00",
         "07:45:00",
         "790"
        ],
        [
         "31",
         "32",
         "07:45:00",
         "08:00:00",
         "698"
        ],
        [
         "32",
         "33",
         "08:00:00",
         "08:15:00",
         "1570"
        ],
        [
         "33",
         "34",
         "08:15:00",
         "08:30:00",
         "1590"
        ],
        [
         "34",
         "35",
         "08:30:00",
         "08:45:00",
         "1601"
        ],
        [
         "35",
         "36",
         "08:45:00",
         "09:00:00",
         "1700"
        ],
        [
         "36",
         "37",
         "09:00:00",
         "09:15:00",
         "2600"
        ],
        [
         "37",
         "38",
         "09:15:00",
         "09:30:00",
         "2509"
        ],
        [
         "38",
         "39",
         "09:30:00",
         "09:45:00",
         "2603"
        ],
        [
         "39",
         "40",
         "09:45:00",
         "10:00:00",
         "2699"
        ],
        [
         "40",
         "41",
         "10:00:00",
         "10:15:00",
         "3124"
        ],
        [
         "41",
         "42",
         "10:15:00",
         "10:30:00",
         "3135"
        ],
        [
         "42",
         "43",
         "10:30:00",
         "10:45:00",
         "3080"
        ],
        [
         "43",
         "44",
         "10:45:00",
         "11:00:00",
         "3197"
        ],
        [
         "44",
         "45",
         "11:00:00",
         "11:15:00",
         "2890"
        ],
        [
         "45",
         "46",
         "11:15:00",
         "11:30:00",
         "2910"
        ],
        [
         "46",
         "47",
         "11:30:00",
         "11:45:00",
         "2912"
        ],
        [
         "47",
         "48",
         "11:45:00",
         "12:00:00",
         "2870"
        ],
        [
         "48",
         "49",
         "12:00:00",
         "12:15:00",
         "2403"
        ],
        [
         "49",
         "50",
         "12:15:00",
         "12:30:00",
         "2397"
        ]
       ],
       "shape": {
        "columns": 4,
        "rows": 96
       }
      },
      "text/html": [
       "<div>\n",
       "<style scoped>\n",
       "    .dataframe tbody tr th:only-of-type {\n",
       "        vertical-align: middle;\n",
       "    }\n",
       "\n",
       "    .dataframe tbody tr th {\n",
       "        vertical-align: top;\n",
       "    }\n",
       "\n",
       "    .dataframe thead th {\n",
       "        text-align: right;\n",
       "    }\n",
       "</style>\n",
       "<table border=\"1\" class=\"dataframe\">\n",
       "  <thead>\n",
       "    <tr style=\"text-align: right;\">\n",
       "      <th></th>\n",
       "      <th>rotulo</th>\n",
       "      <th>hora_inicio</th>\n",
       "      <th>hora_fim</th>\n",
       "      <th>numero_medio_ligantes</th>\n",
       "    </tr>\n",
       "  </thead>\n",
       "  <tbody>\n",
       "    <tr>\n",
       "      <th>0</th>\n",
       "      <td>1</td>\n",
       "      <td>00:00:00</td>\n",
       "      <td>00:15:00</td>\n",
       "      <td>601</td>\n",
       "    </tr>\n",
       "    <tr>\n",
       "      <th>1</th>\n",
       "      <td>2</td>\n",
       "      <td>00:15:00</td>\n",
       "      <td>00:30:00</td>\n",
       "      <td>190</td>\n",
       "    </tr>\n",
       "    <tr>\n",
       "      <th>2</th>\n",
       "      <td>3</td>\n",
       "      <td>00:30:00</td>\n",
       "      <td>00:45:00</td>\n",
       "      <td>180</td>\n",
       "    </tr>\n",
       "    <tr>\n",
       "      <th>3</th>\n",
       "      <td>4</td>\n",
       "      <td>00:45:00</td>\n",
       "      <td>01:00:00</td>\n",
       "      <td>177</td>\n",
       "    </tr>\n",
       "    <tr>\n",
       "      <th>4</th>\n",
       "      <td>5</td>\n",
       "      <td>01:00:00</td>\n",
       "      <td>01:15:00</td>\n",
       "      <td>162</td>\n",
       "    </tr>\n",
       "    <tr>\n",
       "      <th>...</th>\n",
       "      <td>...</td>\n",
       "      <td>...</td>\n",
       "      <td>...</td>\n",
       "      <td>...</td>\n",
       "    </tr>\n",
       "    <tr>\n",
       "      <th>91</th>\n",
       "      <td>92</td>\n",
       "      <td>22:45:00</td>\n",
       "      <td>23:00:00</td>\n",
       "      <td>920</td>\n",
       "    </tr>\n",
       "    <tr>\n",
       "      <th>92</th>\n",
       "      <td>93</td>\n",
       "      <td>23:00:00</td>\n",
       "      <td>23:15:00</td>\n",
       "      <td>897</td>\n",
       "    </tr>\n",
       "    <tr>\n",
       "      <th>93</th>\n",
       "      <td>94</td>\n",
       "      <td>23:15:00</td>\n",
       "      <td>23:30:00</td>\n",
       "      <td>571</td>\n",
       "    </tr>\n",
       "    <tr>\n",
       "      <th>94</th>\n",
       "      <td>95</td>\n",
       "      <td>23:30:00</td>\n",
       "      <td>23:45:00</td>\n",
       "      <td>560</td>\n",
       "    </tr>\n",
       "    <tr>\n",
       "      <th>95</th>\n",
       "      <td>96</td>\n",
       "      <td>23:45:00</td>\n",
       "      <td>00:00:00</td>\n",
       "      <td>590</td>\n",
       "    </tr>\n",
       "  </tbody>\n",
       "</table>\n",
       "<p>96 rows × 4 columns</p>\n",
       "</div>"
      ],
      "text/plain": [
       "    rotulo hora_inicio  hora_fim  numero_medio_ligantes\n",
       "0        1    00:00:00  00:15:00                    601\n",
       "1        2    00:15:00  00:30:00                    190\n",
       "2        3    00:30:00  00:45:00                    180\n",
       "3        4    00:45:00  01:00:00                    177\n",
       "4        5    01:00:00  01:15:00                    162\n",
       "..     ...         ...       ...                    ...\n",
       "91      92    22:45:00  23:00:00                    920\n",
       "92      93    23:00:00  23:15:00                    897\n",
       "93      94    23:15:00  23:30:00                    571\n",
       "94      95    23:30:00  23:45:00                    560\n",
       "95      96    23:45:00  00:00:00                    590\n",
       "\n",
       "[96 rows x 4 columns]"
      ]
     },
     "execution_count": 100,
     "metadata": {},
     "output_type": "execute_result"
    }
   ],
   "source": [
    "df_tabela_ligantes = pd.read_excel(\n",
    "    os.path.join(\"data\", \"df_tabela_ligantes.xlsx\")\n",
    ")\n",
    "\n",
    "df_tabela_ligantes"
   ]
  },
  {
   "cell_type": "code",
   "execution_count": 101,
   "id": "ff1fa70d",
   "metadata": {},
   "outputs": [
    {
     "data": {
      "application/vnd.microsoft.datawrangler.viewer.v0+json": {
       "columns": [
        {
         "name": "index",
         "rawType": "int64",
         "type": "integer"
        },
        {
         "name": "duracao_conexao",
         "rawType": "int64",
         "type": "integer"
        },
        {
         "name": "numero_ligantes",
         "rawType": "int64",
         "type": "integer"
        },
        {
         "name": "percentagem_relativa",
         "rawType": "float64",
         "type": "float"
        },
        {
         "name": "percentagem_acumulada",
         "rawType": "float64",
         "type": "float"
        }
       ],
       "ref": "29ddaa61-f1bb-434c-88ce-5f3d11d31b6b",
       "rows": [
        [
         "0",
         "0",
         "0",
         "0.0",
         "0.0"
        ],
        [
         "1",
         "5",
         "870",
         "0.087",
         "0.087"
        ],
        [
         "2",
         "10",
         "2210",
         "0.221",
         "0.308"
        ],
        [
         "3",
         "15",
         "2940",
         "0.294",
         "0.602"
        ],
        [
         "4",
         "20",
         "1710",
         "0.171",
         "0.773"
        ],
        [
         "5",
         "25",
         "1360",
         "0.136",
         "0.909"
        ],
        [
         "6",
         "30",
         "590",
         "0.059",
         "0.968"
        ],
        [
         "7",
         "35",
         "250",
         "0.025",
         "0.993"
        ],
        [
         "8",
         "40",
         "70",
         "0.007",
         "1.0"
        ]
       ],
       "shape": {
        "columns": 4,
        "rows": 9
       }
      },
      "text/html": [
       "<div>\n",
       "<style scoped>\n",
       "    .dataframe tbody tr th:only-of-type {\n",
       "        vertical-align: middle;\n",
       "    }\n",
       "\n",
       "    .dataframe tbody tr th {\n",
       "        vertical-align: top;\n",
       "    }\n",
       "\n",
       "    .dataframe thead th {\n",
       "        text-align: right;\n",
       "    }\n",
       "</style>\n",
       "<table border=\"1\" class=\"dataframe\">\n",
       "  <thead>\n",
       "    <tr style=\"text-align: right;\">\n",
       "      <th></th>\n",
       "      <th>duracao_conexao</th>\n",
       "      <th>numero_ligantes</th>\n",
       "      <th>percentagem_relativa</th>\n",
       "      <th>percentagem_acumulada</th>\n",
       "    </tr>\n",
       "  </thead>\n",
       "  <tbody>\n",
       "    <tr>\n",
       "      <th>0</th>\n",
       "      <td>0</td>\n",
       "      <td>0</td>\n",
       "      <td>0.000</td>\n",
       "      <td>0.000</td>\n",
       "    </tr>\n",
       "    <tr>\n",
       "      <th>1</th>\n",
       "      <td>5</td>\n",
       "      <td>870</td>\n",
       "      <td>0.087</td>\n",
       "      <td>0.087</td>\n",
       "    </tr>\n",
       "    <tr>\n",
       "      <th>2</th>\n",
       "      <td>10</td>\n",
       "      <td>2210</td>\n",
       "      <td>0.221</td>\n",
       "      <td>0.308</td>\n",
       "    </tr>\n",
       "    <tr>\n",
       "      <th>3</th>\n",
       "      <td>15</td>\n",
       "      <td>2940</td>\n",
       "      <td>0.294</td>\n",
       "      <td>0.602</td>\n",
       "    </tr>\n",
       "    <tr>\n",
       "      <th>4</th>\n",
       "      <td>20</td>\n",
       "      <td>1710</td>\n",
       "      <td>0.171</td>\n",
       "      <td>0.773</td>\n",
       "    </tr>\n",
       "    <tr>\n",
       "      <th>5</th>\n",
       "      <td>25</td>\n",
       "      <td>1360</td>\n",
       "      <td>0.136</td>\n",
       "      <td>0.909</td>\n",
       "    </tr>\n",
       "    <tr>\n",
       "      <th>6</th>\n",
       "      <td>30</td>\n",
       "      <td>590</td>\n",
       "      <td>0.059</td>\n",
       "      <td>0.968</td>\n",
       "    </tr>\n",
       "    <tr>\n",
       "      <th>7</th>\n",
       "      <td>35</td>\n",
       "      <td>250</td>\n",
       "      <td>0.025</td>\n",
       "      <td>0.993</td>\n",
       "    </tr>\n",
       "    <tr>\n",
       "      <th>8</th>\n",
       "      <td>40</td>\n",
       "      <td>70</td>\n",
       "      <td>0.007</td>\n",
       "      <td>1.000</td>\n",
       "    </tr>\n",
       "  </tbody>\n",
       "</table>\n",
       "</div>"
      ],
      "text/plain": [
       "   duracao_conexao  numero_ligantes  percentagem_relativa  \\\n",
       "0                0                0                 0.000   \n",
       "1                5              870                 0.087   \n",
       "2               10             2210                 0.221   \n",
       "3               15             2940                 0.294   \n",
       "4               20             1710                 0.171   \n",
       "5               25             1360                 0.136   \n",
       "6               30              590                 0.059   \n",
       "7               35              250                 0.025   \n",
       "8               40               70                 0.007   \n",
       "\n",
       "   percentagem_acumulada  \n",
       "0                  0.000  \n",
       "1                  0.087  \n",
       "2                  0.308  \n",
       "3                  0.602  \n",
       "4                  0.773  \n",
       "5                  0.909  \n",
       "6                  0.968  \n",
       "7                  0.993  \n",
       "8                  1.000  "
      ]
     },
     "execution_count": 101,
     "metadata": {},
     "output_type": "execute_result"
    }
   ],
   "source": [
    "df_duracoes = pd.read_excel(\n",
    "    os.path.join(\"data\", \"df_duracoes.xlsx\")\n",
    ")\n",
    "\n",
    "df_duracoes"
   ]
  },
  {
   "cell_type": "code",
   "execution_count": 102,
   "id": "5ba7b481",
   "metadata": {},
   "outputs": [
    {
     "data": {
      "text/plain": [
       "<Axes: xlabel='duracao_conexao'>"
      ]
     },
     "execution_count": 102,
     "metadata": {},
     "output_type": "execute_result"
    },
    {
     "data": {
      "image/png": "[encoded data removed]",
      "text/plain": [
       "<Figure size 500x300 with 1 Axes>"
      ]
     },
     "metadata": {},
     "output_type": "display_data"
    }
   ],
   "source": [
    "df_duracoes.plot(\n",
    "                 x=\"duracao_conexao\",\n",
    "                 y=\"numero_ligantes\",\n",
    "                 kind=\"bar\",\n",
    "                 figsize=(5,3),\n",
    "                 color=\"cyan\",\n",
    "                 edgecolor=\"blue\"\n",
    "                 )"
   ]
  },
  {
   "cell_type": "code",
   "execution_count": 103,
   "id": "eb5ecc5c",
   "metadata": {},
   "outputs": [
    {
     "data": {
      "text/plain": [
       "<Axes: xlabel='percentagem_acumulada', ylabel='duracao_conexao'>"
      ]
     },
     "execution_count": 103,
     "metadata": {},
     "output_type": "execute_result"
    },
    {
     "data": {
      "image/png": "[encoded data removed]",
      "text/plain": [
       "<Figure size 500x300 with 1 Axes>"
      ]
     },
     "metadata": {},
     "output_type": "display_data"
    }
   ],
   "source": [
    "df_duracoes.plot(\n",
    "                 x=\"percentagem_acumulada\",\n",
    "                 y=\"duracao_conexao\",\n",
    "                 kind=\"scatter\",\n",
    "                 figsize=(5,3),\n",
    "                 color=\"red\",\n",
    "                 edgecolor=\"black\"\n",
    "                 )"
   ]
  },
  {
   "cell_type": "code",
   "execution_count": 104,
   "id": "d6fdee97",
   "metadata": {},
   "outputs": [
    {
     "data": {
      "text/plain": [
       "array([  7.25285080e+02,  -1.67791097e+03,   1.41326154e+03,\n",
       "        -5.23808659e+02,   1.01010563e+02,  -2.06253859e-01])"
      ]
     },
     "execution_count": 104,
     "metadata": {},
     "output_type": "execute_result"
    }
   ],
   "source": [
    "coefs = metodo_minimos_quadrados.mmq(\n",
    "    df_duracoes[\"percentagem_acumulada\"],\n",
    "    df_duracoes[\"duracao_conexao\"],\n",
    "    5\n",
    ")\n",
    "\n",
    "coefs"
   ]
  },
  {
   "cell_type": "code",
   "execution_count": 105,
   "id": "a1008d56",
   "metadata": {},
   "outputs": [
    {
     "name": "stdout",
     "output_type": "stream",
     "text": [
      "[ 0.   0.1  0.2  0.3  0.4  0.5  0.6  0.7  0.8  0.9]\n",
      "[ -0.2   5.9   7.9   9.3  11.3  13.8  16.   17.6  19.4  24.2]\n"
     ]
    }
   ],
   "source": [
    "x = np.linspace(0, 1, 1000)\n",
    "y = np.polyval(coefs, x)\n",
    "print(x[::100].round(1))\n",
    "print(y[::100].round(1))"
   ]
  },
  {
   "cell_type": "code",
   "execution_count": null,
   "id": "b2cdab32",
   "metadata": {},
   "outputs": [],
   "source": []
  },
  {
   "cell_type": "code",
   "execution_count": 106,
   "id": "bf0cf847",
   "metadata": {},
   "outputs": [
    {
     "data": {
      "image/png": "[encoded data removed]",
      "text/plain": [
       "<Figure size 640x480 with 1 Axes>"
      ]
     },
     "metadata": {},
     "output_type": "display_data"
    }
   ],
   "source": [
    "coefs = metodo_minimos_quadrados.mmq(\n",
    "    df_duracoes[\"percentagem_acumulada\"],\n",
    "    df_duracoes[\"duracao_conexao\"],\n",
    "    8   # aumetei o grau do polinomio de 5 para 8 oara ver o overfitting\n",
    ")\n",
    "# ------------------------------------------------------------------------\n",
    "x = np.linspace(0, 1, 1000)\n",
    "y = np.polyval(coefs, x)\n",
    "\n",
    "percentagens_acumuladas = df_duracoes[\"percentagem_acumulada\"]\n",
    "duracoes = df_duracoes[\"duracao_conexao\"]\n",
    "\n",
    "plt.scatter(\n",
    "            percentagens_acumuladas, duracoes,\n",
    "            color=\"red\",\n",
    "            label=\"Dados Origianais\",\n",
    "            )\n",
    "# ------------------------------------------------------------------------\n",
    "plt.plot(x, y, label=\"Polinomio\")\n",
    "plt.legend()\n",
    "plt.show()"
   ]
  },
  {
   "cell_type": "code",
   "execution_count": 107,
   "id": "06baf33b",
   "metadata": {},
   "outputs": [
    {
     "data": {
      "image/png": "[encoded data removed]",
      "text/plain": [
       "<Figure size 640x480 with 1 Axes>"
      ]
     },
     "metadata": {},
     "output_type": "display_data"
    }
   ],
   "source": [
    "coefs = metodo_minimos_quadrados.mmq(\n",
    "    df_duracoes[\"percentagem_acumulada\"],\n",
    "    df_duracoes[\"duracao_conexao\"],\n",
    "    5   # voltei o 5\n",
    ")\n",
    "# ------------------------------------------------------------------------\n",
    "x = np.linspace(0, 1, 1000)\n",
    "y = np.polyval(coefs, x)\n",
    "\n",
    "percentagens_acumuladas = df_duracoes[\"percentagem_acumulada\"]\n",
    "duracoes = df_duracoes[\"duracao_conexao\"]\n",
    "\n",
    "plt.scatter(\n",
    "            percentagens_acumuladas, duracoes,\n",
    "            color=\"red\",\n",
    "            label=\"Dados Origianais\",\n",
    "            )\n",
    "# ------------------------------------------------------------------------\n",
    "plt.plot(x, y, label=\"Polinomio\")\n",
    "plt.legend()\n",
    "plt.show()"
   ]
  },
  {
   "cell_type": "code",
   "execution_count": 108,
   "id": "163bc5e4",
   "metadata": {},
   "outputs": [
    {
     "data": {
      "text/plain": [
       "array([  7.25285080e+02,  -1.67791097e+03,   1.41326154e+03,\n",
       "        -5.23808659e+02,   1.01010563e+02,  -2.06253859e-01])"
      ]
     },
     "execution_count": 108,
     "metadata": {},
     "output_type": "execute_result"
    }
   ],
   "source": [
    "coefs"
   ]
  },
  {
   "cell_type": "code",
   "execution_count": 109,
   "id": "2e2ab789",
   "metadata": {},
   "outputs": [
    {
     "data": {
      "text/plain": [
       "-0.20625385920448025"
      ]
     },
     "execution_count": 109,
     "metadata": {},
     "output_type": "execute_result"
    }
   ],
   "source": [
    "np.polyval(coefs, 0)"
   ]
  },
  {
   "cell_type": "code",
   "execution_count": 110,
   "id": "095a7006",
   "metadata": {},
   "outputs": [
    {
     "data": {
      "text/plain": [
       "1381888.8377561844"
      ]
     },
     "execution_count": 110,
     "metadata": {},
     "output_type": "execute_result"
    }
   ],
   "source": [
    "np.polyval(coefs, 5)"
   ]
  },
  {
   "cell_type": "code",
   "execution_count": 111,
   "id": "208f7776",
   "metadata": {},
   "outputs": [
    {
     "data": {
      "text/plain": [
       "array([-0.20625386,  5.90943916,  7.89703842,  9.28356129])"
      ]
     },
     "execution_count": 111,
     "metadata": {},
     "output_type": "execute_result"
    }
   ],
   "source": [
    "np.polyval(coefs, [0, 0.1, 0.2, 0.3])"
   ]
  },
  {
   "cell_type": "code",
   "execution_count": 112,
   "id": "13239732",
   "metadata": {},
   "outputs": [
    {
     "data": {
      "text/plain": [
       "14.27476206082526"
      ]
     },
     "execution_count": 112,
     "metadata": {},
     "output_type": "execute_result"
    }
   ],
   "source": [
    "tempos_aleatorios = []\n",
    "\n",
    "for _ in range(10,1000):\n",
    "    alpha = np.random.random()\n",
    "    tempo = np.polyval(coefs, alpha)\n",
    "    tempos_aleatorios.append(tempo)\n",
    "\n",
    "np.mean(tempos_aleatorios)"
   ]
  },
  {
   "cell_type": "code",
   "execution_count": 113,
   "id": "15528e48",
   "metadata": {},
   "outputs": [
    {
     "data": {
      "application/vnd.microsoft.datawrangler.viewer.v0+json": {
       "columns": [
        {
         "name": "index",
         "rawType": "int64",
         "type": "integer"
        },
        {
         "name": "rotulo",
         "rawType": "int64",
         "type": "integer"
        },
        {
         "name": "hora_inicio",
         "rawType": "object",
         "type": "unknown"
        },
        {
         "name": "hora_fim",
         "rawType": "object",
         "type": "unknown"
        },
        {
         "name": "numero_medio_ligantes",
         "rawType": "int64",
         "type": "integer"
        }
       ],
       "ref": "9bb2dda9-1994-455c-aaa0-babce69904e2",
       "rows": [
        [
         "0",
         "1",
         "00:00:00",
         "00:15:00",
         "601"
        ],
        [
         "1",
         "2",
         "00:15:00",
         "00:30:00",
         "190"
        ],
        [
         "2",
         "3",
         "00:30:00",
         "00:45:00",
         "180"
        ],
        [
         "3",
         "4",
         "00:45:00",
         "01:00:00",
         "177"
        ],
        [
         "4",
         "5",
         "01:00:00",
         "01:15:00",
         "162"
        ],
        [
         "5",
         "6",
         "01:15:00",
         "01:30:00",
         "110"
        ],
        [
         "6",
         "7",
         "01:30:00",
         "01:45:00",
         "99"
        ],
        [
         "7",
         "8",
         "01:45:00",
         "02:00:00",
         "108"
        ],
        [
         "8",
         "9",
         "02:00:00",
         "02:15:00",
         "97"
        ],
        [
         "9",
         "10",
         "02:15:00",
         "02:30:00",
         "77"
        ],
        [
         "10",
         "11",
         "02:30:00",
         "02:45:00",
         "75"
        ],
        [
         "11",
         "12",
         "02:45:00",
         "03:00:00",
         "76"
        ],
        [
         "12",
         "13",
         "03:00:00",
         "03:15:00",
         "79"
        ],
        [
         "13",
         "14",
         "03:15:00",
         "03:30:00",
         "46"
        ],
        [
         "14",
         "15",
         "03:30:00",
         "03:45:00",
         "45"
        ],
        [
         "15",
         "16",
         "03:45:00",
         "04:00:00",
         "42"
        ],
        [
         "16",
         "17",
         "04:00:00",
         "04:15:00",
         "49"
        ],
        [
         "17",
         "18",
         "04:15:00",
         "04:30:00",
         "45"
        ],
        [
         "18",
         "19",
         "04:30:00",
         "04:45:00",
         "44"
        ],
        [
         "19",
         "20",
         "04:45:00",
         "05:00:00",
         "49"
        ],
        [
         "20",
         "21",
         "05:00:00",
         "05:15:00",
         "57"
        ],
        [
         "21",
         "22",
         "05:15:00",
         "05:30:00",
         "52"
        ],
        [
         "22",
         "23",
         "05:30:00",
         "05:45:00",
         "51"
        ],
        [
         "23",
         "24",
         "05:45:00",
         "06:00:00",
         "49"
        ],
        [
         "24",
         "25",
         "06:00:00",
         "06:15:00",
         "97"
        ],
        [
         "25",
         "26",
         "06:15:00",
         "06:30:00",
         "132"
        ],
        [
         "26",
         "27",
         "06:30:00",
         "06:45:00",
         "141"
        ],
        [
         "27",
         "28",
         "06:45:00",
         "07:00:00",
         "155"
        ],
        [
         "28",
         "29",
         "07:00:00",
         "07:15:00",
         "630"
        ],
        [
         "29",
         "30",
         "07:15:00",
         "07:30:00",
         "634"
        ],
        [
         "30",
         "31",
         "07:30:00",
         "07:45:00",
         "790"
        ],
        [
         "31",
         "32",
         "07:45:00",
         "08:00:00",
         "698"
        ],
        [
         "32",
         "33",
         "08:00:00",
         "08:15:00",
         "1570"
        ],
        [
         "33",
         "34",
         "08:15:00",
         "08:30:00",
         "1590"
        ],
        [
         "34",
         "35",
         "08:30:00",
         "08:45:00",
         "1601"
        ],
        [
         "35",
         "36",
         "08:45:00",
         "09:00:00",
         "1700"
        ],
        [
         "36",
         "37",
         "09:00:00",
         "09:15:00",
         "2600"
        ],
        [
         "37",
         "38",
         "09:15:00",
         "09:30:00",
         "2509"
        ],
        [
         "38",
         "39",
         "09:30:00",
         "09:45:00",
         "2603"
        ],
        [
         "39",
         "40",
         "09:45:00",
         "10:00:00",
         "2699"
        ],
        [
         "40",
         "41",
         "10:00:00",
         "10:15:00",
         "3124"
        ],
        [
         "41",
         "42",
         "10:15:00",
         "10:30:00",
         "3135"
        ],
        [
         "42",
         "43",
         "10:30:00",
         "10:45:00",
         "3080"
        ],
        [
         "43",
         "44",
         "10:45:00",
         "11:00:00",
         "3197"
        ],
        [
         "44",
         "45",
         "11:00:00",
         "11:15:00",
         "2890"
        ],
        [
         "45",
         "46",
         "11:15:00",
         "11:30:00",
         "2910"
        ],
        [
         "46",
         "47",
         "11:30:00",
         "11:45:00",
         "2912"
        ],
        [
         "47",
         "48",
         "11:45:00",
         "12:00:00",
         "2870"
        ],
        [
         "48",
         "49",
         "12:00:00",
         "12:15:00",
         "2403"
        ],
        [
         "49",
         "50",
         "12:15:00",
         "12:30:00",
         "2397"
        ]
       ],
       "shape": {
        "columns": 4,
        "rows": 96
       }
      },
      "text/html": [
       "<div>\n",
       "<style scoped>\n",
       "    .dataframe tbody tr th:only-of-type {\n",
       "        vertical-align: middle;\n",
       "    }\n",
       "\n",
       "    .dataframe tbody tr th {\n",
       "        vertical-align: top;\n",
       "    }\n",
       "\n",
       "    .dataframe thead th {\n",
       "        text-align: right;\n",
       "    }\n",
       "</style>\n",
       "<table border=\"1\" class=\"dataframe\">\n",
       "  <thead>\n",
       "    <tr style=\"text-align: right;\">\n",
       "      <th></th>\n",
       "      <th>rotulo</th>\n",
       "      <th>hora_inicio</th>\n",
       "      <th>hora_fim</th>\n",
       "      <th>numero_medio_ligantes</th>\n",
       "    </tr>\n",
       "  </thead>\n",
       "  <tbody>\n",
       "    <tr>\n",
       "      <th>0</th>\n",
       "      <td>1</td>\n",
       "      <td>00:00:00</td>\n",
       "      <td>00:15:00</td>\n",
       "      <td>601</td>\n",
       "    </tr>\n",
       "    <tr>\n",
       "      <th>1</th>\n",
       "      <td>2</td>\n",
       "      <td>00:15:00</td>\n",
       "      <td>00:30:00</td>\n",
       "      <td>190</td>\n",
       "    </tr>\n",
       "    <tr>\n",
       "      <th>2</th>\n",
       "      <td>3</td>\n",
       "      <td>00:30:00</td>\n",
       "      <td>00:45:00</td>\n",
       "      <td>180</td>\n",
       "    </tr>\n",
       "    <tr>\n",
       "      <th>3</th>\n",
       "      <td>4</td>\n",
       "      <td>00:45:00</td>\n",
       "      <td>01:00:00</td>\n",
       "      <td>177</td>\n",
       "    </tr>\n",
       "    <tr>\n",
       "      <th>4</th>\n",
       "      <td>5</td>\n",
       "      <td>01:00:00</td>\n",
       "      <td>01:15:00</td>\n",
       "      <td>162</td>\n",
       "    </tr>\n",
       "    <tr>\n",
       "      <th>...</th>\n",
       "      <td>...</td>\n",
       "      <td>...</td>\n",
       "      <td>...</td>\n",
       "      <td>...</td>\n",
       "    </tr>\n",
       "    <tr>\n",
       "      <th>91</th>\n",
       "      <td>92</td>\n",
       "      <td>22:45:00</td>\n",
       "      <td>23:00:00</td>\n",
       "      <td>920</td>\n",
       "    </tr>\n",
       "    <tr>\n",
       "      <th>92</th>\n",
       "      <td>93</td>\n",
       "      <td>23:00:00</td>\n",
       "      <td>23:15:00</td>\n",
       "      <td>897</td>\n",
       "    </tr>\n",
       "    <tr>\n",
       "      <th>93</th>\n",
       "      <td>94</td>\n",
       "      <td>23:15:00</td>\n",
       "      <td>23:30:00</td>\n",
       "      <td>571</td>\n",
       "    </tr>\n",
       "    <tr>\n",
       "      <th>94</th>\n",
       "      <td>95</td>\n",
       "      <td>23:30:00</td>\n",
       "      <td>23:45:00</td>\n",
       "      <td>560</td>\n",
       "    </tr>\n",
       "    <tr>\n",
       "      <th>95</th>\n",
       "      <td>96</td>\n",
       "      <td>23:45:00</td>\n",
       "      <td>00:00:00</td>\n",
       "      <td>590</td>\n",
       "    </tr>\n",
       "  </tbody>\n",
       "</table>\n",
       "<p>96 rows × 4 columns</p>\n",
       "</div>"
      ],
      "text/plain": [
       "    rotulo hora_inicio  hora_fim  numero_medio_ligantes\n",
       "0        1    00:00:00  00:15:00                    601\n",
       "1        2    00:15:00  00:30:00                    190\n",
       "2        3    00:30:00  00:45:00                    180\n",
       "3        4    00:45:00  01:00:00                    177\n",
       "4        5    01:00:00  01:15:00                    162\n",
       "..     ...         ...       ...                    ...\n",
       "91      92    22:45:00  23:00:00                    920\n",
       "92      93    23:00:00  23:15:00                    897\n",
       "93      94    23:15:00  23:30:00                    571\n",
       "94      95    23:30:00  23:45:00                    560\n",
       "95      96    23:45:00  00:00:00                    590\n",
       "\n",
       "[96 rows x 4 columns]"
      ]
     },
     "execution_count": 113,
     "metadata": {},
     "output_type": "execute_result"
    }
   ],
   "source": [
    "df_tabela_ligantes"
   ]
  },
  {
   "cell_type": "code",
   "execution_count": 114,
   "id": "0705da50",
   "metadata": {},
   "outputs": [
    {
     "data": {
      "application/vnd.microsoft.datawrangler.viewer.v0+json": {
       "columns": [
        {
         "name": "index",
         "rawType": "object",
         "type": "string"
        },
        {
         "name": "0",
         "rawType": "object",
         "type": "unknown"
        }
       ],
       "ref": "7826c8e8-18e3-40cf-a1f6-3352d30977ca",
       "rows": [
        [
         "rotulo",
         "1"
        ],
        [
         "hora_inicio",
         "00:00:00"
        ],
        [
         "hora_fim",
         "00:15:00"
        ],
        [
         "numero_medio_ligantes",
         "601"
        ]
       ],
       "shape": {
        "columns": 1,
        "rows": 4
       }
      },
      "text/plain": [
       "rotulo                          1\n",
       "hora_inicio              00:00:00\n",
       "hora_fim                 00:15:00\n",
       "numero_medio_ligantes         601\n",
       "Name: 0, dtype: object"
      ]
     },
     "execution_count": 114,
     "metadata": {},
     "output_type": "execute_result"
    }
   ],
   "source": [
    "df_tabela_ligantes.loc[0]"
   ]
  },
  {
   "cell_type": "code",
   "execution_count": 115,
   "id": "2d531de8",
   "metadata": {},
   "outputs": [
    {
     "data": {
      "text/plain": [
       "601"
      ]
     },
     "execution_count": 115,
     "metadata": {},
     "output_type": "execute_result"
    }
   ],
   "source": [
    "df_tabela_ligantes.loc[0, \"numero_medio_ligantes\"]"
   ]
  },
  {
   "cell_type": "code",
   "execution_count": 116,
   "id": "26d5e672",
   "metadata": {},
   "outputs": [
    {
     "data": {
      "text/plain": [
       "601"
      ]
     },
     "execution_count": 116,
     "metadata": {},
     "output_type": "execute_result"
    }
   ],
   "source": [
    "qtd_ligacoes = df_tabela_ligantes.loc[0, \"numero_medio_ligantes\"]\n",
    "qtd_ligacoes"
   ]
  },
  {
   "cell_type": "code",
   "execution_count": 117,
   "id": "ab777bc7",
   "metadata": {},
   "outputs": [
    {
     "data": {
      "text/plain": [
       "array([684, 559, 629, 192, 835, 763, 707, 359,   9, 723], dtype=int32)"
      ]
     },
     "execution_count": 117,
     "metadata": {},
     "output_type": "execute_result"
    }
   ],
   "source": [
    "np.random.seed(0)\n",
    "momentos_ligacoes = np.random.randint(0, 900, size = qtd_ligacoes)\n",
    "momentos_ligacoes[:10]"
   ]
  },
  {
   "cell_type": "code",
   "execution_count": 118,
   "id": "366085e3",
   "metadata": {},
   "outputs": [
    {
     "data": {
      "application/vnd.microsoft.datawrangler.viewer.v0+json": {
       "columns": [
        {
         "name": "index",
         "rawType": "int64",
         "type": "integer"
        },
        {
         "name": "duracao_conexao",
         "rawType": "int64",
         "type": "integer"
        },
        {
         "name": "numero_ligantes",
         "rawType": "int64",
         "type": "integer"
        },
        {
         "name": "percentagem_relativa",
         "rawType": "float64",
         "type": "float"
        },
        {
         "name": "percentagem_acumulada",
         "rawType": "float64",
         "type": "float"
        }
       ],
       "ref": "9f659f13-d81b-4602-9bee-4e686797b041",
       "rows": [
        [
         "0",
         "0",
         "0",
         "0.0",
         "0.0"
        ],
        [
         "1",
         "5",
         "870",
         "0.087",
         "0.087"
        ],
        [
         "2",
         "10",
         "2210",
         "0.221",
         "0.308"
        ],
        [
         "3",
         "15",
         "2940",
         "0.294",
         "0.602"
        ],
        [
         "4",
         "20",
         "1710",
         "0.171",
         "0.773"
        ],
        [
         "5",
         "25",
         "1360",
         "0.136",
         "0.909"
        ],
        [
         "6",
         "30",
         "590",
         "0.059",
         "0.968"
        ],
        [
         "7",
         "35",
         "250",
         "0.025",
         "0.993"
        ],
        [
         "8",
         "40",
         "70",
         "0.007",
         "1.0"
        ]
       ],
       "shape": {
        "columns": 4,
        "rows": 9
       }
      },
      "text/html": [
       "<div>\n",
       "<style scoped>\n",
       "    .dataframe tbody tr th:only-of-type {\n",
       "        vertical-align: middle;\n",
       "    }\n",
       "\n",
       "    .dataframe tbody tr th {\n",
       "        vertical-align: top;\n",
       "    }\n",
       "\n",
       "    .dataframe thead th {\n",
       "        text-align: right;\n",
       "    }\n",
       "</style>\n",
       "<table border=\"1\" class=\"dataframe\">\n",
       "  <thead>\n",
       "    <tr style=\"text-align: right;\">\n",
       "      <th></th>\n",
       "      <th>duracao_conexao</th>\n",
       "      <th>numero_ligantes</th>\n",
       "      <th>percentagem_relativa</th>\n",
       "      <th>percentagem_acumulada</th>\n",
       "    </tr>\n",
       "  </thead>\n",
       "  <tbody>\n",
       "    <tr>\n",
       "      <th>0</th>\n",
       "      <td>0</td>\n",
       "      <td>0</td>\n",
       "      <td>0.000</td>\n",
       "      <td>0.000</td>\n",
       "    </tr>\n",
       "    <tr>\n",
       "      <th>1</th>\n",
       "      <td>5</td>\n",
       "      <td>870</td>\n",
       "      <td>0.087</td>\n",
       "      <td>0.087</td>\n",
       "    </tr>\n",
       "    <tr>\n",
       "      <th>2</th>\n",
       "      <td>10</td>\n",
       "      <td>2210</td>\n",
       "      <td>0.221</td>\n",
       "      <td>0.308</td>\n",
       "    </tr>\n",
       "    <tr>\n",
       "      <th>3</th>\n",
       "      <td>15</td>\n",
       "      <td>2940</td>\n",
       "      <td>0.294</td>\n",
       "      <td>0.602</td>\n",
       "    </tr>\n",
       "    <tr>\n",
       "      <th>4</th>\n",
       "      <td>20</td>\n",
       "      <td>1710</td>\n",
       "      <td>0.171</td>\n",
       "      <td>0.773</td>\n",
       "    </tr>\n",
       "    <tr>\n",
       "      <th>5</th>\n",
       "      <td>25</td>\n",
       "      <td>1360</td>\n",
       "      <td>0.136</td>\n",
       "      <td>0.909</td>\n",
       "    </tr>\n",
       "    <tr>\n",
       "      <th>6</th>\n",
       "      <td>30</td>\n",
       "      <td>590</td>\n",
       "      <td>0.059</td>\n",
       "      <td>0.968</td>\n",
       "    </tr>\n",
       "    <tr>\n",
       "      <th>7</th>\n",
       "      <td>35</td>\n",
       "      <td>250</td>\n",
       "      <td>0.025</td>\n",
       "      <td>0.993</td>\n",
       "    </tr>\n",
       "    <tr>\n",
       "      <th>8</th>\n",
       "      <td>40</td>\n",
       "      <td>70</td>\n",
       "      <td>0.007</td>\n",
       "      <td>1.000</td>\n",
       "    </tr>\n",
       "  </tbody>\n",
       "</table>\n",
       "</div>"
      ],
      "text/plain": [
       "   duracao_conexao  numero_ligantes  percentagem_relativa  \\\n",
       "0                0                0                 0.000   \n",
       "1                5              870                 0.087   \n",
       "2               10             2210                 0.221   \n",
       "3               15             2940                 0.294   \n",
       "4               20             1710                 0.171   \n",
       "5               25             1360                 0.136   \n",
       "6               30              590                 0.059   \n",
       "7               35              250                 0.025   \n",
       "8               40               70                 0.007   \n",
       "\n",
       "   percentagem_acumulada  \n",
       "0                  0.000  \n",
       "1                  0.087  \n",
       "2                  0.308  \n",
       "3                  0.602  \n",
       "4                  0.773  \n",
       "5                  0.909  \n",
       "6                  0.968  \n",
       "7                  0.993  \n",
       "8                  1.000  "
      ]
     },
     "execution_count": 118,
     "metadata": {},
     "output_type": "execute_result"
    }
   ],
   "source": [
    "df_duracoes"
   ]
  },
  {
   "cell_type": "code",
   "execution_count": 119,
   "id": "a4f01bb6",
   "metadata": {},
   "outputs": [
    {
     "data": {
      "text/plain": [
       "0"
      ]
     },
     "execution_count": 119,
     "metadata": {},
     "output_type": "execute_result"
    }
   ],
   "source": [
    "df_duracoes.loc[0, \"duracao_conexao\"]"
   ]
  },
  {
   "cell_type": "code",
   "execution_count": 120,
   "id": "8e7039ac",
   "metadata": {},
   "outputs": [
    {
     "data": {
      "text/plain": [
       "0"
      ]
     },
     "execution_count": 120,
     "metadata": {},
     "output_type": "execute_result"
    }
   ],
   "source": [
    "df_duracoes.iloc[0, 0]"
   ]
  },
  {
   "cell_type": "code",
   "execution_count": 121,
   "id": "07a1ba45",
   "metadata": {},
   "outputs": [
    {
     "data": {
      "text/plain": [
       "array([684, 559, 629, 192, 835, 763, 707, 359,   9, 723, 277, 754, 804,\n",
       "       599,  70, 472, 600, 396, 314, 705, 486, 551,  87, 174, 600, 849,\n",
       "       677, 537, 845,  72, 777, 115, 755, 709, 847, 431, 448, 850,  99,\n",
       "       177, 755, 797, 659, 147, 423, 288, 265, 697, 639, 544, 543, 714,\n",
       "       244, 151, 675, 510, 459, 882, 183,  28, 802, 128, 128,  53, 550,\n",
       "       488, 756, 273, 335, 388, 617,  42, 442, 543, 888, 257, 321,  57,\n",
       "       291, 870, 119, 779, 430,  82,  91, 896, 398, 611, 565, 633,  84,\n",
       "       203, 324, 774,  47, 639, 131, 868, 180, 846, 143, 660, 227, 791,\n",
       "       719, 373, 853, 560, 305, 581, 169, 675, 448,  95, 197, 606, 256,\n",
       "       881, 690, 292, 816, 861, 387, 610, 554, 368, 201, 383, 512, 370,\n",
       "       555, 383,  23, 699, 130, 377,  98, 574, 734, 123, 594, 739, 148,\n",
       "       209, 562, 411, 782,  41,  58, 705,  36, 778,  86,  43, 872,  11,\n",
       "       770, 307,  80,  32, 182, 128, 806, 275, 174, 554, 371, 184, 444,\n",
       "       488, 589, 286, 280, 637, 770, 515,  94, 226, 875, 269, 880, 296,\n",
       "       328,  19, 607, 840, 410, 450, 248, 180, 323, 829, 782, 864, 260,\n",
       "       749, 139, 598, 461, 889, 621, 843, 696, 528, 152, 149, 110,  25,\n",
       "       464, 889, 886, 117, 445, 595, 673, 872, 228, 507, 763, 121, 326,\n",
       "       469, 287, 525, 839, 696, 152, 591,  41, 274, 552, 438, 207, 779,\n",
       "       166, 111, 349, 129, 735, 886, 812, 216, 381,  24,  67, 771, 234,\n",
       "       716, 291, 726, 701, 709, 727, 555,  32,  11, 616, 212, 138, 694,\n",
       "       421, 637, 668, 623, 488, 770, 539, 217, 663, 821, 307, 174, 148,\n",
       "       541, 579, 547, 807, 393,  73, 297, 899, 814, 730, 876, 771, 799,\n",
       "       777, 394, 539, 429, 199, 423,  61, 341, 865,  44, 802,  88,  33,\n",
       "       645, 232, 767,  36, 768, 459, 290, 197, 894, 254,  80, 446, 136,\n",
       "       189, 129, 209, 368, 291, 376, 347, 168, 884, 804, 176, 537, 323,\n",
       "       871, 508, 803, 114, 798,  29, 753, 289, 146, 273, 221, 340, 509,\n",
       "       514,  69, 357, 556, 885, 765, 322, 623,  91, 341, 423, 551, 662,\n",
       "       414, 657, 710, 274, 860,  43,  83, 433, 809,  93, 174, 405, 201,\n",
       "       857, 498, 480, 329, 540, 209, 617, 896, 575,  16, 106, 164, 606,\n",
       "       536, 628, 191, 195, 307, 136, 859,  93, 891, 750,  87, 160, 147,\n",
       "       584, 455,  87,  13, 314, 593, 120, 884, 832, 715, 732, 281, 800,\n",
       "       426, 782, 470, 284, 276, 324, 534, 227, 890, 595, 647, 573, 653,\n",
       "       517, 256, 136, 207, 463, 139,   4, 423, 348, 282, 586, 820, 433,\n",
       "       219, 819, 739, 873, 786, 373, 290, 563, 670, 437, 826, 823, 508,\n",
       "       786, 855, 449, 326, 490,  53, 816,  94,  59, 336, 666, 636, 163,\n",
       "       570, 106, 201, 300, 781, 889, 838, 550, 679, 648,  13, 720, 534,\n",
       "       504, 847, 776, 739, 774, 209, 455, 468, 473, 572, 400,  56, 882,\n",
       "       749, 663, 280,   4, 612, 305, 343, 542, 566, 153, 788, 353, 357,\n",
       "       697, 407, 411,  29, 371, 821, 631, 854, 502,   7, 617, 137, 694,\n",
       "       896, 851, 376, 721, 148, 885, 259, 126, 810, 577, 532, 804, 324,\n",
       "       112, 650, 237, 360, 859, 555,  63, 454, 265, 444, 603, 623, 419,\n",
       "       339, 844, 274, 369, 842, 226, 225, 643, 228, 826, 897, 369, 128,\n",
       "       807,  24, 698, 292, 355, 837, 134,   3, 226, 889, 680, 444, 417,\n",
       "       284, 836,  26, 736, 248, 365, 201, 437, 197, 647, 637, 606,  72,\n",
       "       246, 852, 135, 707, 213, 475, 620, 323, 102, 852, 327, 595, 223,\n",
       "       256, 645, 347, 107, 519, 149, 476, 392, 683, 558,   0, 360, 691,\n",
       "       550,  89,  74], dtype=int32)"
      ]
     },
     "execution_count": 121,
     "metadata": {},
     "output_type": "execute_result"
    }
   ],
   "source": [
    "momentos_ligacoes"
   ]
  },
  {
   "cell_type": "code",
   "execution_count": 122,
   "id": "20b3e278",
   "metadata": {},
   "outputs": [
    {
     "data": {
      "text/plain": [
       "array([684, 559, 629, 192, 835, 763, 707, 359,   9, 723], dtype=int32)"
      ]
     },
     "execution_count": 122,
     "metadata": {},
     "output_type": "execute_result"
    }
   ],
   "source": [
    "momentos_ligacoes[:10]"
   ]
  },
  {
   "cell_type": "code",
   "execution_count": 123,
   "id": "62f46ba9",
   "metadata": {},
   "outputs": [
    {
     "data": {
      "text/plain": [
       "array([ 0,  3,  4,  4,  7,  9, 11, 11, 13, 13], dtype=int32)"
      ]
     },
     "execution_count": 123,
     "metadata": {},
     "output_type": "execute_result"
    }
   ],
   "source": [
    "momentos_ligacoes.sort()\n",
    "momentos_ligacoes[:10]"
   ]
  },
  {
   "cell_type": "code",
   "execution_count": 124,
   "id": "ed148277",
   "metadata": {},
   "outputs": [],
   "source": [
    "# coemçar as simulacoes\n"
   ]
  },
  {
   "cell_type": "code",
   "execution_count": 125,
   "id": "637f8364",
   "metadata": {},
   "outputs": [],
   "source": [
    "atendentes: list[dict] = []"
   ]
  },
  {
   "cell_type": "code",
   "execution_count": 126,
   "id": "2f56d509",
   "metadata": {},
   "outputs": [],
   "source": [
    "np.set_printoptions(legacy = \"1.13\")  # vou impor essa versão para não imprimir informacoes alem das que eu quero quando dou um \"print\""
   ]
  },
  {
   "cell_type": "code",
   "execution_count": 127,
   "id": "82f22883",
   "metadata": {},
   "outputs": [
    {
     "data": {
      "text/plain": [
       "0"
      ]
     },
     "execution_count": 127,
     "metadata": {},
     "output_type": "execute_result"
    }
   ],
   "source": [
    "momento_ligacao = momentos_ligacoes[0]\n",
    "momento_ligacao"
   ]
  },
  {
   "cell_type": "code",
   "execution_count": 128,
   "id": "b67fd8d0",
   "metadata": {},
   "outputs": [
    {
     "name": "stdout",
     "output_type": "stream",
     "text": [
      "14.9651548682\n"
     ]
    }
   ],
   "source": [
    "np.random.seed(0)\n",
    "\n",
    "aleatorio = np.random.rand()\n",
    "tempo_duracao = abs(np.polyval(coefs, aleatorio))\n",
    "print(tempo_duracao)\n"
   ]
  },
  {
   "cell_type": "code",
   "execution_count": 129,
   "id": "813c595f",
   "metadata": {},
   "outputs": [
    {
     "data": {
      "text/plain": [
       "[{'inicio': 0, 'fim': 14.965154868196022}]"
      ]
     },
     "execution_count": 129,
     "metadata": {},
     "output_type": "execute_result"
    }
   ],
   "source": [
    "if atendentes == []:\n",
    "    atendente = {\n",
    "        \"inicio\": momento_ligacao,\n",
    "        \"fim\": momento_ligacao + tempo_duracao\n",
    "    }\n",
    "    atendentes.append(atendente)\n",
    "\n",
    "atendentes"
   ]
  },
  {
   "cell_type": "code",
   "execution_count": 130,
   "id": "3a32eaa1",
   "metadata": {},
   "outputs": [
    {
     "data": {
      "text/plain": [
       "3"
      ]
     },
     "execution_count": 130,
     "metadata": {},
     "output_type": "execute_result"
    }
   ],
   "source": [
    "momento_ligacao = momentos_ligacoes[1]\n",
    "momento_ligacao"
   ]
  },
  {
   "cell_type": "code",
   "execution_count": 131,
   "id": "52049235",
   "metadata": {},
   "outputs": [],
   "source": [
    "espera_maxima = 10\n",
    "tempo_descanso = 0"
   ]
  },
  {
   "cell_type": "code",
   "execution_count": 132,
   "id": "58128e6f",
   "metadata": {},
   "outputs": [
    {
     "name": "stdout",
     "output_type": "stream",
     "text": [
      "11.7186119095\n"
     ]
    }
   ],
   "source": [
    "np.random.seed(1)\n",
    "aleatorio = np.random.random()\n",
    "tempo_duracao = abs(np.polyval(coefs, aleatorio))\n",
    "print(tempo_duracao)\n"
   ]
  },
  {
   "cell_type": "code",
   "execution_count": 133,
   "id": "9a44823f",
   "metadata": {},
   "outputs": [
    {
     "data": {
      "text/plain": [
       "[{'inicio': 0, 'fim': 14.965154868196022}]"
      ]
     },
     "execution_count": 133,
     "metadata": {},
     "output_type": "execute_result"
    }
   ],
   "source": [
    "atendentes"
   ]
  },
  {
   "cell_type": "code",
   "execution_count": 134,
   "id": "46c09deb",
   "metadata": {},
   "outputs": [
    {
     "data": {
      "text/plain": [
       "[{'inicio': 0, 'fim': 14.965154868196022},\n",
       " {'inicio': 3, 'fim': 14.718611909498971}]"
      ]
     },
     "execution_count": 134,
     "metadata": {},
     "output_type": "execute_result"
    }
   ],
   "source": [
    "for atendente in atendentes:\n",
    "    fim = atendente[\"fim\"] + tempo_descanso\n",
    "\n",
    "    if  momento_ligacao + espera_maxima < fim:\n",
    "        ocupado = True\n",
    "    else:\n",
    "        ocupado = False\n",
    "\n",
    "    if not ocupado:\n",
    "\n",
    "        if momento_ligacao + espera_maxima > fim:\n",
    "            atendente[\"inicio\"] = momento_ligacao + espera_maxima\n",
    "        else:\n",
    "            atendente[\"inicio\"] = fim\n",
    "        \n",
    "        atendente[\"fim\"] = atendente[\"inicio\"] + tempo_duracao\n",
    "        break\n",
    "\n",
    "else:\n",
    "    atendente = {\n",
    "        \"inicio\": momento_ligacao,\n",
    "        \"fim\": momento_ligacao + tempo_duracao\n",
    "    }\n",
    "    atendentes.append(atendente)\n",
    "\n",
    "atendentes\n"
   ]
  },
  {
   "cell_type": "code",
   "execution_count": 135,
   "id": "750e6655",
   "metadata": {},
   "outputs": [
    {
     "name": "stdout",
     "output_type": "stream",
     "text": [
      "0\n",
      "3\n",
      "4\n",
      "4\n",
      "7\n",
      "9\n",
      "11\n",
      "11\n",
      "13\n",
      "13\n",
      "16\n",
      "19\n",
      "23\n",
      "24\n",
      "24\n",
      "25\n",
      "26\n",
      "28\n",
      "29\n",
      "29\n",
      "32\n",
      "32\n",
      "33\n",
      "36\n",
      "36\n",
      "41\n",
      "41\n",
      "42\n",
      "43\n",
      "43\n",
      "44\n",
      "47\n",
      "53\n",
      "53\n",
      "56\n",
      "57\n",
      "58\n",
      "59\n",
      "61\n",
      "63\n",
      "67\n",
      "69\n",
      "70\n",
      "72\n",
      "72\n",
      "73\n",
      "74\n",
      "80\n",
      "80\n",
      "82\n",
      "83\n",
      "84\n",
      "86\n",
      "87\n",
      "87\n",
      "87\n",
      "88\n",
      "89\n",
      "91\n",
      "91\n",
      "93\n",
      "93\n",
      "94\n",
      "94\n",
      "95\n",
      "98\n",
      "99\n",
      "102\n",
      "106\n",
      "106\n",
      "107\n",
      "110\n",
      "111\n",
      "112\n",
      "114\n",
      "115\n",
      "117\n",
      "119\n",
      "120\n",
      "121\n",
      "123\n",
      "126\n",
      "128\n",
      "128\n",
      "128\n",
      "128\n",
      "129\n",
      "129\n",
      "130\n",
      "131\n",
      "134\n",
      "135\n",
      "136\n",
      "136\n",
      "136\n",
      "137\n",
      "138\n",
      "139\n",
      "139\n",
      "143\n",
      "146\n",
      "147\n",
      "147\n",
      "148\n",
      "148\n",
      "148\n",
      "149\n",
      "149\n",
      "151\n",
      "152\n",
      "152\n",
      "153\n",
      "160\n",
      "163\n",
      "164\n",
      "166\n",
      "168\n",
      "169\n",
      "174\n",
      "174\n",
      "174\n",
      "174\n",
      "176\n",
      "177\n",
      "180\n",
      "180\n",
      "182\n",
      "183\n",
      "184\n",
      "189\n",
      "191\n",
      "192\n",
      "195\n",
      "197\n",
      "197\n",
      "197\n",
      "199\n",
      "201\n",
      "201\n",
      "201\n",
      "201\n",
      "203\n",
      "207\n",
      "207\n",
      "209\n",
      "209\n",
      "209\n",
      "209\n",
      "212\n",
      "213\n",
      "216\n",
      "217\n",
      "219\n",
      "221\n",
      "223\n",
      "225\n",
      "226\n",
      "226\n",
      "226\n",
      "227\n",
      "227\n",
      "228\n",
      "228\n",
      "232\n",
      "234\n",
      "237\n",
      "244\n",
      "246\n",
      "248\n",
      "248\n",
      "254\n",
      "256\n",
      "256\n",
      "256\n",
      "257\n",
      "259\n",
      "260\n",
      "265\n",
      "265\n",
      "269\n",
      "273\n",
      "273\n",
      "274\n",
      "274\n",
      "274\n",
      "275\n",
      "276\n",
      "277\n",
      "280\n",
      "280\n",
      "281\n",
      "282\n",
      "284\n",
      "284\n",
      "286\n",
      "287\n",
      "288\n",
      "289\n",
      "290\n",
      "290\n",
      "291\n",
      "291\n",
      "291\n",
      "292\n",
      "292\n",
      "296\n",
      "297\n",
      "300\n",
      "305\n",
      "305\n",
      "307\n",
      "307\n",
      "307\n",
      "314\n",
      "314\n",
      "321\n",
      "322\n",
      "323\n",
      "323\n",
      "323\n",
      "324\n",
      "324\n",
      "324\n",
      "326\n",
      "326\n",
      "327\n",
      "328\n",
      "329\n",
      "335\n",
      "336\n",
      "339\n",
      "340\n",
      "341\n",
      "341\n",
      "343\n",
      "347\n",
      "347\n",
      "348\n",
      "349\n",
      "353\n",
      "355\n",
      "357\n",
      "357\n",
      "359\n",
      "360\n",
      "360\n",
      "365\n",
      "368\n",
      "368\n",
      "369\n",
      "369\n",
      "370\n",
      "371\n",
      "371\n",
      "373\n",
      "373\n",
      "376\n",
      "376\n",
      "377\n",
      "381\n",
      "383\n",
      "383\n",
      "387\n",
      "388\n",
      "392\n",
      "393\n",
      "394\n",
      "396\n",
      "398\n",
      "400\n",
      "405\n",
      "407\n",
      "410\n",
      "411\n",
      "411\n",
      "414\n",
      "417\n",
      "419\n",
      "421\n",
      "423\n",
      "423\n",
      "423\n",
      "423\n",
      "426\n",
      "429\n",
      "430\n",
      "431\n",
      "433\n",
      "433\n",
      "437\n",
      "437\n",
      "438\n",
      "442\n",
      "444\n",
      "444\n",
      "444\n",
      "445\n",
      "446\n",
      "448\n",
      "448\n",
      "449\n",
      "450\n",
      "454\n",
      "455\n",
      "455\n",
      "459\n",
      "459\n",
      "461\n",
      "463\n",
      "464\n",
      "468\n",
      "469\n",
      "470\n",
      "472\n",
      "473\n",
      "475\n",
      "476\n",
      "480\n",
      "486\n",
      "488\n",
      "488\n",
      "488\n",
      "490\n",
      "498\n",
      "502\n",
      "504\n",
      "507\n",
      "508\n",
      "508\n",
      "509\n",
      "510\n",
      "512\n",
      "514\n",
      "515\n",
      "517\n",
      "519\n",
      "525\n",
      "528\n",
      "532\n",
      "534\n",
      "534\n",
      "536\n",
      "537\n",
      "537\n",
      "539\n",
      "539\n",
      "540\n",
      "541\n",
      "542\n",
      "543\n",
      "543\n",
      "544\n",
      "547\n",
      "550\n",
      "550\n",
      "550\n",
      "551\n",
      "551\n",
      "552\n",
      "554\n",
      "554\n",
      "555\n",
      "555\n",
      "555\n",
      "556\n",
      "558\n",
      "559\n",
      "560\n",
      "562\n",
      "563\n",
      "565\n",
      "566\n",
      "570\n",
      "572\n",
      "573\n",
      "574\n",
      "575\n",
      "577\n",
      "579\n",
      "581\n",
      "584\n",
      "586\n",
      "589\n",
      "591\n",
      "593\n",
      "594\n",
      "595\n",
      "595\n",
      "595\n",
      "598\n",
      "599\n",
      "600\n",
      "600\n",
      "603\n",
      "606\n",
      "606\n",
      "606\n",
      "607\n",
      "610\n",
      "611\n",
      "612\n",
      "616\n",
      "617\n",
      "617\n",
      "617\n",
      "620\n",
      "621\n",
      "623\n",
      "623\n",
      "623\n",
      "628\n",
      "629\n",
      "631\n",
      "633\n",
      "636\n",
      "637\n",
      "637\n",
      "637\n",
      "639\n",
      "639\n",
      "643\n",
      "645\n",
      "645\n",
      "647\n",
      "647\n",
      "648\n",
      "650\n",
      "653\n",
      "657\n",
      "659\n",
      "660\n",
      "662\n",
      "663\n",
      "663\n",
      "666\n",
      "668\n",
      "670\n",
      "673\n",
      "675\n",
      "675\n",
      "677\n",
      "679\n",
      "680\n",
      "683\n",
      "684\n",
      "690\n",
      "691\n",
      "694\n",
      "694\n",
      "696\n",
      "696\n",
      "697\n",
      "697\n",
      "698\n",
      "699\n",
      "701\n",
      "705\n",
      "705\n",
      "707\n",
      "707\n",
      "709\n",
      "709\n",
      "710\n",
      "714\n",
      "715\n",
      "716\n",
      "719\n",
      "720\n",
      "721\n",
      "723\n",
      "726\n",
      "727\n",
      "730\n",
      "732\n",
      "734\n",
      "735\n",
      "736\n",
      "739\n",
      "739\n",
      "739\n",
      "749\n",
      "749\n",
      "750\n",
      "753\n",
      "754\n",
      "755\n",
      "755\n",
      "756\n",
      "763\n",
      "763\n",
      "765\n",
      "767\n",
      "768\n",
      "770\n",
      "770\n",
      "770\n",
      "771\n",
      "771\n",
      "774\n",
      "774\n",
      "776\n",
      "777\n",
      "777\n",
      "778\n",
      "779\n",
      "779\n",
      "781\n",
      "782\n",
      "782\n",
      "782\n",
      "786\n",
      "786\n",
      "788\n",
      "791\n",
      "797\n",
      "798\n",
      "799\n",
      "800\n",
      "802\n",
      "802\n",
      "803\n",
      "804\n",
      "804\n",
      "804\n",
      "806\n",
      "807\n",
      "807\n",
      "809\n",
      "810\n",
      "812\n",
      "814\n",
      "816\n",
      "816\n",
      "819\n",
      "820\n",
      "821\n",
      "821\n",
      "823\n",
      "826\n",
      "826\n",
      "829\n",
      "832\n",
      "835\n",
      "836\n",
      "837\n",
      "838\n",
      "839\n",
      "840\n",
      "842\n",
      "843\n",
      "844\n",
      "845\n",
      "846\n",
      "847\n",
      "847\n",
      "849\n",
      "850\n",
      "851\n",
      "852\n",
      "852\n",
      "853\n",
      "854\n",
      "855\n",
      "857\n",
      "859\n",
      "859\n",
      "860\n",
      "861\n",
      "864\n",
      "865\n",
      "868\n",
      "870\n",
      "871\n",
      "872\n",
      "872\n",
      "873\n",
      "875\n",
      "876\n",
      "880\n",
      "881\n",
      "882\n",
      "882\n",
      "884\n",
      "884\n",
      "885\n",
      "885\n",
      "886\n",
      "886\n",
      "888\n",
      "889\n",
      "889\n",
      "889\n",
      "889\n",
      "890\n",
      "891\n",
      "894\n",
      "896\n",
      "896\n",
      "896\n",
      "897\n",
      "899\n"
     ]
    }
   ],
   "source": [
    "for momento_ligacao in momentos_ligacoes:\n",
    "    print(momento_ligacao)"
   ]
  },
  {
   "cell_type": "code",
   "execution_count": null,
   "id": "918cb9b6",
   "metadata": {},
   "outputs": [],
   "source": [
    "for momento_ligacao in momentos_ligacoes:\n",
    "    #print(momento_ligacao)\n",
    "\n",
    "    "
   ]
  },
  {
   "cell_type": "code",
   "execution_count": 137,
   "id": "9c8eb1b9",
   "metadata": {},
   "outputs": [
    {
     "data": {
      "text/plain": [
       "[{'inicio': 904, 'fim': 914.4037564982807},\n",
       " {'inicio': 906, 'fim': 917.86945228372167},\n",
       " {'inicio': 909, 'fim': 917.37356632866181},\n",
       " {'inicio': 900, 'fim': 912.04701461181367},\n",
       " {'inicio': 906, 'fim': 913.54143974652425},\n",
       " {'inicio': 906, 'fim': 909.2110175449335},\n",
       " {'inicio': 907, 'fim': 923.65667308248339},\n",
       " {'inicio': 898, 'fim': 910.80468815160725},\n",
       " {'inicio': 892, 'fim': 918.91345867401799},\n",
       " {'inicio': 892, 'fim': 899.6962495432706},\n",
       " {'inicio': 895, 'fim': 921.10612199350487},\n",
       " {'inicio': 894, 'fim': 924.69074239242343},\n",
       " {'inicio': 894, 'fim': 912.97138604541612},\n",
       " {'inicio': 895, 'fim': 911.50408245771962},\n",
       " {'inicio': 896, 'fim': 906.24103253233636},\n",
       " {'inicio': 896, 'fim': 913.60372669768321},\n",
       " {'inicio': 899, 'fim': 917.10414350589645},\n",
       " {'inicio': 899, 'fim': 928.75678690002758},\n",
       " {'inicio': 899, 'fim': 903.08006092171786},\n",
       " {'inicio': 899, 'fim': 906.40232584615558}]"
      ]
     },
     "execution_count": 137,
     "metadata": {},
     "output_type": "execute_result"
    }
   ],
   "source": [
    "np.random.seed(5)\n",
    "tempo_descanso = 0\n",
    "espera_maxima = 10\n",
    "atendentes = []\n",
    "for momento_ligacao in momentos_ligacoes:\n",
    "    aleatorio = np.random.random()\n",
    "    tempo_duracao = abs(np.polyval(coefs, aleatorio))\n",
    "\n",
    "    for atendente in atendentes:\n",
    "        fim = atendente[\"fim\"] + tempo_descanso\n",
    "\n",
    "        if momento_ligacao + espera_maxima < fim:\n",
    "            ocupado = True\n",
    "        else:\n",
    "            ocupado = False\n",
    "\n",
    "        if not ocupado:\n",
    "\n",
    "            if momento_ligacao + espera_maxima > fim:\n",
    "                atendente[\"inicio\"] = momento_ligacao + espera_maxima\n",
    "            else:\n",
    "                atendente[\"inicio\"] = fim\n",
    "            \n",
    "            atendente[\"fim\"] = atendente[\"inicio\"] + tempo_duracao\n",
    "            break\n",
    "    else:\n",
    "\n",
    "        atendente = {\n",
    "            \"inicio\": momento_ligacao,\n",
    "            \"fim\": momento_ligacao + tempo_duracao\n",
    "        }\n",
    "        atendentes.append(atendente)\n",
    "\n",
    "atendentes"
   ]
  },
  {
   "cell_type": "markdown",
   "id": "57051e32",
   "metadata": {},
   "source": []
  },
  {
   "cell_type": "code",
   "execution_count": 138,
   "id": "13ad8d95",
   "metadata": {},
   "outputs": [
    {
     "data": {
      "text/plain": [
       "20"
      ]
     },
     "execution_count": 138,
     "metadata": {},
     "output_type": "execute_result"
    }
   ],
   "source": [
    "len(atendentes)"
   ]
  },
  {
   "cell_type": "code",
   "execution_count": 139,
   "id": "811abb6e",
   "metadata": {},
   "outputs": [
    {
     "data": {
      "text/plain": [
       "array([2, 1, 5, 4, 8, 6, 3, 7])"
      ]
     },
     "execution_count": 139,
     "metadata": {},
     "output_type": "execute_result"
    }
   ],
   "source": [
    "np.random.permutation([1,2,3,4,5,6,7,8])"
   ]
  },
  {
   "cell_type": "code",
   "execution_count": 141,
   "id": "ba7d2bfb",
   "metadata": {},
   "outputs": [
    {
     "data": {
      "text/plain": [
       "[{'inicio': 899, 'fim': 909.29559843811921},\n",
       " {'inicio': 900, 'fim': 910.89334430853955},\n",
       " {'inicio': 899, 'fim': 932.21236755469567},\n",
       " {'inicio': 909, 'fim': 917.53861755803973},\n",
       " {'inicio': 904, 'fim': 920.23396461861057},\n",
       " {'inicio': 899, 'fim': 908.85265704300502},\n",
       " {'inicio': 867, 'fim': 894.9962068760093},\n",
       " {'inicio': 901, 'fim': 917.66657940193431},\n",
       " {'inicio': 907, 'fim': 915.17518229722555},\n",
       " {'inicio': 906, 'fim': 913.65133331310551},\n",
       " {'inicio': 896, 'fim': 906.82228408233289},\n",
       " {'inicio': 892, 'fim': 907.66966275774632},\n",
       " {'inicio': 882, 'fim': 901.13837905289324},\n",
       " {'inicio': 883, 'fim': 902.83508526014623},\n",
       " {'inicio': 814, 'fim': 843.61932082301757},\n",
       " {'inicio': 899, 'fim': 907.73089614696869},\n",
       " {'inicio': 896, 'fim': 912.80887286644202},\n",
       " {'inicio': 906, 'fim': 930.77650856562752},\n",
       " {'inicio': 906, 'fim': 914.0496784226475}]"
      ]
     },
     "execution_count": 141,
     "metadata": {},
     "output_type": "execute_result"
    }
   ],
   "source": [
    "np.random.seed(5)\n",
    "tempo_descanso = 0\n",
    "espera_maxima = 10\n",
    "atendentes = []\n",
    "for momento_ligacao in momentos_ligacoes:\n",
    "    aleatorio = np.random.random()\n",
    "    tempo_duracao = abs(np.polyval(coefs, aleatorio))\n",
    "\n",
    "    atendentes = list(np.random.permutation(atendentes))\n",
    "\n",
    "    for atendente in atendentes:\n",
    "        fim = atendente[\"fim\"] + tempo_descanso\n",
    "\n",
    "        if momento_ligacao + espera_maxima < fim:\n",
    "            ocupado = True\n",
    "        else:\n",
    "            ocupado = False\n",
    "\n",
    "        if not ocupado:\n",
    "\n",
    "            if momento_ligacao + espera_maxima > fim:\n",
    "                atendente[\"inicio\"] = momento_ligacao + espera_maxima\n",
    "            else:\n",
    "                atendente[\"inicio\"] = fim\n",
    "            \n",
    "            atendente[\"fim\"] = atendente[\"inicio\"] + tempo_duracao\n",
    "            break\n",
    "    else:\n",
    "\n",
    "        atendente = {\n",
    "            \"inicio\": momento_ligacao,\n",
    "            \"fim\": momento_ligacao + tempo_duracao\n",
    "        }\n",
    "        atendentes.append(atendente)\n",
    "\n",
    "atendentes"
   ]
  },
  {
   "cell_type": "code",
   "execution_count": 142,
   "id": "a0c56336",
   "metadata": {},
   "outputs": [
    {
     "data": {
      "text/plain": [
       "19"
      ]
     },
     "execution_count": 142,
     "metadata": {},
     "output_type": "execute_result"
    }
   ],
   "source": [
    "len(atendentes)"
   ]
  },
  {
   "cell_type": "code",
   "execution_count": 143,
   "id": "5f780d34",
   "metadata": {},
   "outputs": [
    {
     "data": {
      "application/vnd.microsoft.datawrangler.viewer.v0+json": {
       "columns": [
        {
         "name": "index",
         "rawType": "int64",
         "type": "integer"
        },
        {
         "name": "rotulo",
         "rawType": "int64",
         "type": "integer"
        },
        {
         "name": "hora_inicio",
         "rawType": "object",
         "type": "unknown"
        },
        {
         "name": "hora_fim",
         "rawType": "object",
         "type": "unknown"
        },
        {
         "name": "numero_medio_ligantes",
         "rawType": "int64",
         "type": "integer"
        }
       ],
       "ref": "45635758-ac94-4d10-a9e5-c16dd917c004",
       "rows": [
        [
         "0",
         "1",
         "00:00:00",
         "00:15:00",
         "601"
        ],
        [
         "1",
         "2",
         "00:15:00",
         "00:30:00",
         "190"
        ],
        [
         "2",
         "3",
         "00:30:00",
         "00:45:00",
         "180"
        ],
        [
         "3",
         "4",
         "00:45:00",
         "01:00:00",
         "177"
        ],
        [
         "4",
         "5",
         "01:00:00",
         "01:15:00",
         "162"
        ],
        [
         "5",
         "6",
         "01:15:00",
         "01:30:00",
         "110"
        ],
        [
         "6",
         "7",
         "01:30:00",
         "01:45:00",
         "99"
        ],
        [
         "7",
         "8",
         "01:45:00",
         "02:00:00",
         "108"
        ],
        [
         "8",
         "9",
         "02:00:00",
         "02:15:00",
         "97"
        ],
        [
         "9",
         "10",
         "02:15:00",
         "02:30:00",
         "77"
        ],
        [
         "10",
         "11",
         "02:30:00",
         "02:45:00",
         "75"
        ],
        [
         "11",
         "12",
         "02:45:00",
         "03:00:00",
         "76"
        ],
        [
         "12",
         "13",
         "03:00:00",
         "03:15:00",
         "79"
        ],
        [
         "13",
         "14",
         "03:15:00",
         "03:30:00",
         "46"
        ],
        [
         "14",
         "15",
         "03:30:00",
         "03:45:00",
         "45"
        ],
        [
         "15",
         "16",
         "03:45:00",
         "04:00:00",
         "42"
        ],
        [
         "16",
         "17",
         "04:00:00",
         "04:15:00",
         "49"
        ],
        [
         "17",
         "18",
         "04:15:00",
         "04:30:00",
         "45"
        ],
        [
         "18",
         "19",
         "04:30:00",
         "04:45:00",
         "44"
        ],
        [
         "19",
         "20",
         "04:45:00",
         "05:00:00",
         "49"
        ],
        [
         "20",
         "21",
         "05:00:00",
         "05:15:00",
         "57"
        ],
        [
         "21",
         "22",
         "05:15:00",
         "05:30:00",
         "52"
        ],
        [
         "22",
         "23",
         "05:30:00",
         "05:45:00",
         "51"
        ],
        [
         "23",
         "24",
         "05:45:00",
         "06:00:00",
         "49"
        ],
        [
         "24",
         "25",
         "06:00:00",
         "06:15:00",
         "97"
        ],
        [
         "25",
         "26",
         "06:15:00",
         "06:30:00",
         "132"
        ],
        [
         "26",
         "27",
         "06:30:00",
         "06:45:00",
         "141"
        ],
        [
         "27",
         "28",
         "06:45:00",
         "07:00:00",
         "155"
        ],
        [
         "28",
         "29",
         "07:00:00",
         "07:15:00",
         "630"
        ],
        [
         "29",
         "30",
         "07:15:00",
         "07:30:00",
         "634"
        ],
        [
         "30",
         "31",
         "07:30:00",
         "07:45:00",
         "790"
        ],
        [
         "31",
         "32",
         "07:45:00",
         "08:00:00",
         "698"
        ],
        [
         "32",
         "33",
         "08:00:00",
         "08:15:00",
         "1570"
        ],
        [
         "33",
         "34",
         "08:15:00",
         "08:30:00",
         "1590"
        ],
        [
         "34",
         "35",
         "08:30:00",
         "08:45:00",
         "1601"
        ],
        [
         "35",
         "36",
         "08:45:00",
         "09:00:00",
         "1700"
        ],
        [
         "36",
         "37",
         "09:00:00",
         "09:15:00",
         "2600"
        ],
        [
         "37",
         "38",
         "09:15:00",
         "09:30:00",
         "2509"
        ],
        [
         "38",
         "39",
         "09:30:00",
         "09:45:00",
         "2603"
        ],
        [
         "39",
         "40",
         "09:45:00",
         "10:00:00",
         "2699"
        ],
        [
         "40",
         "41",
         "10:00:00",
         "10:15:00",
         "3124"
        ],
        [
         "41",
         "42",
         "10:15:00",
         "10:30:00",
         "3135"
        ],
        [
         "42",
         "43",
         "10:30:00",
         "10:45:00",
         "3080"
        ],
        [
         "43",
         "44",
         "10:45:00",
         "11:00:00",
         "3197"
        ],
        [
         "44",
         "45",
         "11:00:00",
         "11:15:00",
         "2890"
        ],
        [
         "45",
         "46",
         "11:15:00",
         "11:30:00",
         "2910"
        ],
        [
         "46",
         "47",
         "11:30:00",
         "11:45:00",
         "2912"
        ],
        [
         "47",
         "48",
         "11:45:00",
         "12:00:00",
         "2870"
        ],
        [
         "48",
         "49",
         "12:00:00",
         "12:15:00",
         "2403"
        ],
        [
         "49",
         "50",
         "12:15:00",
         "12:30:00",
         "2397"
        ]
       ],
       "shape": {
        "columns": 4,
        "rows": 96
       }
      },
      "text/html": [
       "<div>\n",
       "<style scoped>\n",
       "    .dataframe tbody tr th:only-of-type {\n",
       "        vertical-align: middle;\n",
       "    }\n",
       "\n",
       "    .dataframe tbody tr th {\n",
       "        vertical-align: top;\n",
       "    }\n",
       "\n",
       "    .dataframe thead th {\n",
       "        text-align: right;\n",
       "    }\n",
       "</style>\n",
       "<table border=\"1\" class=\"dataframe\">\n",
       "  <thead>\n",
       "    <tr style=\"text-align: right;\">\n",
       "      <th></th>\n",
       "      <th>rotulo</th>\n",
       "      <th>hora_inicio</th>\n",
       "      <th>hora_fim</th>\n",
       "      <th>numero_medio_ligantes</th>\n",
       "    </tr>\n",
       "  </thead>\n",
       "  <tbody>\n",
       "    <tr>\n",
       "      <th>0</th>\n",
       "      <td>1</td>\n",
       "      <td>00:00:00</td>\n",
       "      <td>00:15:00</td>\n",
       "      <td>601</td>\n",
       "    </tr>\n",
       "    <tr>\n",
       "      <th>1</th>\n",
       "      <td>2</td>\n",
       "      <td>00:15:00</td>\n",
       "      <td>00:30:00</td>\n",
       "      <td>190</td>\n",
       "    </tr>\n",
       "    <tr>\n",
       "      <th>2</th>\n",
       "      <td>3</td>\n",
       "      <td>00:30:00</td>\n",
       "      <td>00:45:00</td>\n",
       "      <td>180</td>\n",
       "    </tr>\n",
       "    <tr>\n",
       "      <th>3</th>\n",
       "      <td>4</td>\n",
       "      <td>00:45:00</td>\n",
       "      <td>01:00:00</td>\n",
       "      <td>177</td>\n",
       "    </tr>\n",
       "    <tr>\n",
       "      <th>4</th>\n",
       "      <td>5</td>\n",
       "      <td>01:00:00</td>\n",
       "      <td>01:15:00</td>\n",
       "      <td>162</td>\n",
       "    </tr>\n",
       "    <tr>\n",
       "      <th>...</th>\n",
       "      <td>...</td>\n",
       "      <td>...</td>\n",
       "      <td>...</td>\n",
       "      <td>...</td>\n",
       "    </tr>\n",
       "    <tr>\n",
       "      <th>91</th>\n",
       "      <td>92</td>\n",
       "      <td>22:45:00</td>\n",
       "      <td>23:00:00</td>\n",
       "      <td>920</td>\n",
       "    </tr>\n",
       "    <tr>\n",
       "      <th>92</th>\n",
       "      <td>93</td>\n",
       "      <td>23:00:00</td>\n",
       "      <td>23:15:00</td>\n",
       "      <td>897</td>\n",
       "    </tr>\n",
       "    <tr>\n",
       "      <th>93</th>\n",
       "      <td>94</td>\n",
       "      <td>23:15:00</td>\n",
       "      <td>23:30:00</td>\n",
       "      <td>571</td>\n",
       "    </tr>\n",
       "    <tr>\n",
       "      <th>94</th>\n",
       "      <td>95</td>\n",
       "      <td>23:30:00</td>\n",
       "      <td>23:45:00</td>\n",
       "      <td>560</td>\n",
       "    </tr>\n",
       "    <tr>\n",
       "      <th>95</th>\n",
       "      <td>96</td>\n",
       "      <td>23:45:00</td>\n",
       "      <td>00:00:00</td>\n",
       "      <td>590</td>\n",
       "    </tr>\n",
       "  </tbody>\n",
       "</table>\n",
       "<p>96 rows × 4 columns</p>\n",
       "</div>"
      ],
      "text/plain": [
       "    rotulo hora_inicio  hora_fim  numero_medio_ligantes\n",
       "0        1    00:00:00  00:15:00                    601\n",
       "1        2    00:15:00  00:30:00                    190\n",
       "2        3    00:30:00  00:45:00                    180\n",
       "3        4    00:45:00  01:00:00                    177\n",
       "4        5    01:00:00  01:15:00                    162\n",
       "..     ...         ...       ...                    ...\n",
       "91      92    22:45:00  23:00:00                    920\n",
       "92      93    23:00:00  23:15:00                    897\n",
       "93      94    23:15:00  23:30:00                    571\n",
       "94      95    23:30:00  23:45:00                    560\n",
       "95      96    23:45:00  00:00:00                    590\n",
       "\n",
       "[96 rows x 4 columns]"
      ]
     },
     "execution_count": 143,
     "metadata": {},
     "output_type": "execute_result"
    }
   ],
   "source": [
    "df_tabela_ligantes"
   ]
  },
  {
   "cell_type": "code",
   "execution_count": 144,
   "id": "012418ca",
   "metadata": {},
   "outputs": [],
   "source": [
    "# coloco em uma celula unica, generalizando."
   ]
  },
  {
   "cell_type": "code",
   "execution_count": 146,
   "id": "255726e7",
   "metadata": {},
   "outputs": [
    {
     "data": {
      "text/plain": [
       "[20,\n",
       " 9,\n",
       " 8,\n",
       " 9,\n",
       " 8,\n",
       " 5,\n",
       " 6,\n",
       " 7,\n",
       " 5,\n",
       " 5,\n",
       " 4,\n",
       " 5,\n",
       " 4,\n",
       " 4,\n",
       " 4,\n",
       " 4,\n",
       " 4,\n",
       " 5,\n",
       " 4,\n",
       " 4,\n",
       " 4,\n",
       " 4,\n",
       " 3,\n",
       " 4,\n",
       " 6,\n",
       " 6,\n",
       " 8,\n",
       " 7,\n",
       " 20,\n",
       " 21,\n",
       " 23,\n",
       " 23,\n",
       " 41,\n",
       " 41,\n",
       " 41,\n",
       " 45,\n",
       " 66,\n",
       " 59,\n",
       " 60,\n",
       " 67,\n",
       " 70,\n",
       " 75,\n",
       " 71,\n",
       " 75,\n",
       " 66,\n",
       " 64,\n",
       " 62,\n",
       " 68,\n",
       " 57,\n",
       " 57,\n",
       " 56,\n",
       " 60,\n",
       " 64,\n",
       " 67,\n",
       " 63,\n",
       " 70,\n",
       " 69,\n",
       " 67,\n",
       " 64,\n",
       " 66,\n",
       " 71,\n",
       " 66,\n",
       " 70,\n",
       " 67,\n",
       " 68,\n",
       " 66,\n",
       " 68,\n",
       " 71,\n",
       " 68,\n",
       " 69,\n",
       " 73,\n",
       " 62,\n",
       " 55,\n",
       " 51,\n",
       " 52,\n",
       " 48,\n",
       " 45,\n",
       " 44,\n",
       " 39,\n",
       " 38,\n",
       " 41,\n",
       " 36,\n",
       " 36,\n",
       " 40,\n",
       " 36,\n",
       " 34,\n",
       " 30,\n",
       " 31,\n",
       " 31,\n",
       " 26,\n",
       " 26,\n",
       " 26,\n",
       " 23,\n",
       " 18,\n",
       " 18,\n",
       " 18]"
      ]
     },
     "execution_count": 146,
     "metadata": {},
     "output_type": "execute_result"
    }
   ],
   "source": [
    "np.random.seed(5)\n",
    "tempo_descanso = 0\n",
    "espera_maxima = 10\n",
    "coluna_nan = []\n",
    "for i, linha in df_tabela_ligantes.iterrows():\n",
    "    qtd_ligacoes = linha[\"numero_medio_ligantes\"]\n",
    "\n",
    "    momentos_ligacoes = np.random.randint(0, 900, size=qtd_ligacoes)\n",
    "    momentos_ligacoes.sort()\n",
    "\n",
    "    atendentes = []\n",
    "    for momento_ligacao in momentos_ligacoes:\n",
    "        aleatorio = np.random.random()\n",
    "        tempo_duracao = abs(np.polyval(coefs, aleatorio))\n",
    "\n",
    "        atendentes = list(np.random.permutation(atendentes))\n",
    "\n",
    "        for atendente in atendentes:\n",
    "            fim = atendente[\"fim\"] + tempo_descanso\n",
    "\n",
    "            if momento_ligacao + espera_maxima < fim:\n",
    "                ocupado = True\n",
    "            else:\n",
    "                ocupado = False\n",
    "\n",
    "            if not ocupado:\n",
    "\n",
    "                if momento_ligacao + espera_maxima > fim:\n",
    "                    atendente[\"inicio\"] = momento_ligacao + espera_maxima\n",
    "                else:\n",
    "                    atendente[\"inicio\"] = fim\n",
    "                \n",
    "                atendente[\"fim\"] = atendente[\"inicio\"] + tempo_duracao\n",
    "                break\n",
    "        else:\n",
    "\n",
    "            atendente = {\n",
    "                \"inicio\": momento_ligacao,\n",
    "                \"fim\": momento_ligacao + tempo_duracao\n",
    "            }\n",
    "            atendentes.append(atendente)\n",
    "    \n",
    "    nan = len(atendentes)\n",
    "    coluna_nan.append(nan)\n",
    "\n",
    "coluna_nan"
   ]
  },
  {
   "cell_type": "code",
   "execution_count": 147,
   "id": "8f8f9676",
   "metadata": {},
   "outputs": [
    {
     "data": {
      "application/vnd.microsoft.datawrangler.viewer.v0+json": {
       "columns": [
        {
         "name": "index",
         "rawType": "int64",
         "type": "integer"
        },
        {
         "name": "rotulo",
         "rawType": "int64",
         "type": "integer"
        },
        {
         "name": "hora_inicio",
         "rawType": "object",
         "type": "unknown"
        },
        {
         "name": "hora_fim",
         "rawType": "object",
         "type": "unknown"
        },
        {
         "name": "numero_medio_ligantes",
         "rawType": "int64",
         "type": "integer"
        },
        {
         "name": "nan",
         "rawType": "int64",
         "type": "integer"
        }
       ],
       "ref": "554214e1-0612-4d18-8646-501f92c00fef",
       "rows": [
        [
         "0",
         "1",
         "00:00:00",
         "00:15:00",
         "601",
         "20"
        ],
        [
         "1",
         "2",
         "00:15:00",
         "00:30:00",
         "190",
         "9"
        ],
        [
         "2",
         "3",
         "00:30:00",
         "00:45:00",
         "180",
         "8"
        ],
        [
         "3",
         "4",
         "00:45:00",
         "01:00:00",
         "177",
         "9"
        ],
        [
         "4",
         "5",
         "01:00:00",
         "01:15:00",
         "162",
         "8"
        ],
        [
         "5",
         "6",
         "01:15:00",
         "01:30:00",
         "110",
         "5"
        ],
        [
         "6",
         "7",
         "01:30:00",
         "01:45:00",
         "99",
         "6"
        ],
        [
         "7",
         "8",
         "01:45:00",
         "02:00:00",
         "108",
         "7"
        ],
        [
         "8",
         "9",
         "02:00:00",
         "02:15:00",
         "97",
         "5"
        ],
        [
         "9",
         "10",
         "02:15:00",
         "02:30:00",
         "77",
         "5"
        ],
        [
         "10",
         "11",
         "02:30:00",
         "02:45:00",
         "75",
         "4"
        ],
        [
         "11",
         "12",
         "02:45:00",
         "03:00:00",
         "76",
         "5"
        ],
        [
         "12",
         "13",
         "03:00:00",
         "03:15:00",
         "79",
         "4"
        ],
        [
         "13",
         "14",
         "03:15:00",
         "03:30:00",
         "46",
         "4"
        ],
        [
         "14",
         "15",
         "03:30:00",
         "03:45:00",
         "45",
         "4"
        ],
        [
         "15",
         "16",
         "03:45:00",
         "04:00:00",
         "42",
         "4"
        ],
        [
         "16",
         "17",
         "04:00:00",
         "04:15:00",
         "49",
         "4"
        ],
        [
         "17",
         "18",
         "04:15:00",
         "04:30:00",
         "45",
         "5"
        ],
        [
         "18",
         "19",
         "04:30:00",
         "04:45:00",
         "44",
         "4"
        ],
        [
         "19",
         "20",
         "04:45:00",
         "05:00:00",
         "49",
         "4"
        ],
        [
         "20",
         "21",
         "05:00:00",
         "05:15:00",
         "57",
         "4"
        ],
        [
         "21",
         "22",
         "05:15:00",
         "05:30:00",
         "52",
         "4"
        ],
        [
         "22",
         "23",
         "05:30:00",
         "05:45:00",
         "51",
         "3"
        ],
        [
         "23",
         "24",
         "05:45:00",
         "06:00:00",
         "49",
         "4"
        ],
        [
         "24",
         "25",
         "06:00:00",
         "06:15:00",
         "97",
         "6"
        ],
        [
         "25",
         "26",
         "06:15:00",
         "06:30:00",
         "132",
         "6"
        ],
        [
         "26",
         "27",
         "06:30:00",
         "06:45:00",
         "141",
         "8"
        ],
        [
         "27",
         "28",
         "06:45:00",
         "07:00:00",
         "155",
         "7"
        ],
        [
         "28",
         "29",
         "07:00:00",
         "07:15:00",
         "630",
         "20"
        ],
        [
         "29",
         "30",
         "07:15:00",
         "07:30:00",
         "634",
         "21"
        ],
        [
         "30",
         "31",
         "07:30:00",
         "07:45:00",
         "790",
         "23"
        ],
        [
         "31",
         "32",
         "07:45:00",
         "08:00:00",
         "698",
         "23"
        ],
        [
         "32",
         "33",
         "08:00:00",
         "08:15:00",
         "1570",
         "41"
        ],
        [
         "33",
         "34",
         "08:15:00",
         "08:30:00",
         "1590",
         "41"
        ],
        [
         "34",
         "35",
         "08:30:00",
         "08:45:00",
         "1601",
         "41"
        ],
        [
         "35",
         "36",
         "08:45:00",
         "09:00:00",
         "1700",
         "45"
        ],
        [
         "36",
         "37",
         "09:00:00",
         "09:15:00",
         "2600",
         "66"
        ],
        [
         "37",
         "38",
         "09:15:00",
         "09:30:00",
         "2509",
         "59"
        ],
        [
         "38",
         "39",
         "09:30:00",
         "09:45:00",
         "2603",
         "60"
        ],
        [
         "39",
         "40",
         "09:45:00",
         "10:00:00",
         "2699",
         "67"
        ],
        [
         "40",
         "41",
         "10:00:00",
         "10:15:00",
         "3124",
         "70"
        ],
        [
         "41",
         "42",
         "10:15:00",
         "10:30:00",
         "3135",
         "75"
        ],
        [
         "42",
         "43",
         "10:30:00",
         "10:45:00",
         "3080",
         "71"
        ],
        [
         "43",
         "44",
         "10:45:00",
         "11:00:00",
         "3197",
         "75"
        ],
        [
         "44",
         "45",
         "11:00:00",
         "11:15:00",
         "2890",
         "66"
        ],
        [
         "45",
         "46",
         "11:15:00",
         "11:30:00",
         "2910",
         "64"
        ],
        [
         "46",
         "47",
         "11:30:00",
         "11:45:00",
         "2912",
         "62"
        ],
        [
         "47",
         "48",
         "11:45:00",
         "12:00:00",
         "2870",
         "68"
        ],
        [
         "48",
         "49",
         "12:00:00",
         "12:15:00",
         "2403",
         "57"
        ],
        [
         "49",
         "50",
         "12:15:00",
         "12:30:00",
         "2397",
         "57"
        ]
       ],
       "shape": {
        "columns": 5,
        "rows": 96
       }
      },
      "text/html": [
       "<div>\n",
       "<style scoped>\n",
       "    .dataframe tbody tr th:only-of-type {\n",
       "        vertical-align: middle;\n",
       "    }\n",
       "\n",
       "    .dataframe tbody tr th {\n",
       "        vertical-align: top;\n",
       "    }\n",
       "\n",
       "    .dataframe thead th {\n",
       "        text-align: right;\n",
       "    }\n",
       "</style>\n",
       "<table border=\"1\" class=\"dataframe\">\n",
       "  <thead>\n",
       "    <tr style=\"text-align: right;\">\n",
       "      <th></th>\n",
       "      <th>rotulo</th>\n",
       "      <th>hora_inicio</th>\n",
       "      <th>hora_fim</th>\n",
       "      <th>numero_medio_ligantes</th>\n",
       "      <th>nan</th>\n",
       "    </tr>\n",
       "  </thead>\n",
       "  <tbody>\n",
       "    <tr>\n",
       "      <th>0</th>\n",
       "      <td>1</td>\n",
       "      <td>00:00:00</td>\n",
       "      <td>00:15:00</td>\n",
       "      <td>601</td>\n",
       "      <td>20</td>\n",
       "    </tr>\n",
       "    <tr>\n",
       "      <th>1</th>\n",
       "      <td>2</td>\n",
       "      <td>00:15:00</td>\n",
       "      <td>00:30:00</td>\n",
       "      <td>190</td>\n",
       "      <td>9</td>\n",
       "    </tr>\n",
       "    <tr>\n",
       "      <th>2</th>\n",
       "      <td>3</td>\n",
       "      <td>00:30:00</td>\n",
       "      <td>00:45:00</td>\n",
       "      <td>180</td>\n",
       "      <td>8</td>\n",
       "    </tr>\n",
       "    <tr>\n",
       "      <th>3</th>\n",
       "      <td>4</td>\n",
       "      <td>00:45:00</td>\n",
       "      <td>01:00:00</td>\n",
       "      <td>177</td>\n",
       "      <td>9</td>\n",
       "    </tr>\n",
       "    <tr>\n",
       "      <th>4</th>\n",
       "      <td>5</td>\n",
       "      <td>01:00:00</td>\n",
       "      <td>01:15:00</td>\n",
       "      <td>162</td>\n",
       "      <td>8</td>\n",
       "    </tr>\n",
       "    <tr>\n",
       "      <th>...</th>\n",
       "      <td>...</td>\n",
       "      <td>...</td>\n",
       "      <td>...</td>\n",
       "      <td>...</td>\n",
       "      <td>...</td>\n",
       "    </tr>\n",
       "    <tr>\n",
       "      <th>91</th>\n",
       "      <td>92</td>\n",
       "      <td>22:45:00</td>\n",
       "      <td>23:00:00</td>\n",
       "      <td>920</td>\n",
       "      <td>26</td>\n",
       "    </tr>\n",
       "    <tr>\n",
       "      <th>92</th>\n",
       "      <td>93</td>\n",
       "      <td>23:00:00</td>\n",
       "      <td>23:15:00</td>\n",
       "      <td>897</td>\n",
       "      <td>23</td>\n",
       "    </tr>\n",
       "    <tr>\n",
       "      <th>93</th>\n",
       "      <td>94</td>\n",
       "      <td>23:15:00</td>\n",
       "      <td>23:30:00</td>\n",
       "      <td>571</td>\n",
       "      <td>18</td>\n",
       "    </tr>\n",
       "    <tr>\n",
       "      <th>94</th>\n",
       "      <td>95</td>\n",
       "      <td>23:30:00</td>\n",
       "      <td>23:45:00</td>\n",
       "      <td>560</td>\n",
       "      <td>18</td>\n",
       "    </tr>\n",
       "    <tr>\n",
       "      <th>95</th>\n",
       "      <td>96</td>\n",
       "      <td>23:45:00</td>\n",
       "      <td>00:00:00</td>\n",
       "      <td>590</td>\n",
       "      <td>18</td>\n",
       "    </tr>\n",
       "  </tbody>\n",
       "</table>\n",
       "<p>96 rows × 5 columns</p>\n",
       "</div>"
      ],
      "text/plain": [
       "    rotulo hora_inicio  hora_fim  numero_medio_ligantes  nan\n",
       "0        1    00:00:00  00:15:00                    601   20\n",
       "1        2    00:15:00  00:30:00                    190    9\n",
       "2        3    00:30:00  00:45:00                    180    8\n",
       "3        4    00:45:00  01:00:00                    177    9\n",
       "4        5    01:00:00  01:15:00                    162    8\n",
       "..     ...         ...       ...                    ...  ...\n",
       "91      92    22:45:00  23:00:00                    920   26\n",
       "92      93    23:00:00  23:15:00                    897   23\n",
       "93      94    23:15:00  23:30:00                    571   18\n",
       "94      95    23:30:00  23:45:00                    560   18\n",
       "95      96    23:45:00  00:00:00                    590   18\n",
       "\n",
       "[96 rows x 5 columns]"
      ]
     },
     "execution_count": 147,
     "metadata": {},
     "output_type": "execute_result"
    }
   ],
   "source": [
    "df_tabela_ligantes[\"nan\"] = coluna_nan\n",
    "df_tabela_ligantes"
   ]
  },
  {
   "cell_type": "code",
   "execution_count": null,
   "id": "1e47730b",
   "metadata": {},
   "outputs": [],
   "source": []
  },
  {
   "cell_type": "code",
   "execution_count": null,
   "id": "cc4c9c3a",
   "metadata": {},
   "outputs": [],
   "source": []
  }
 ],
 "metadata": {
  "kernelspec": {
   "display_name": ".venv_attentus",
   "language": "python",
   "name": "python3"
  },
  "language_info": {
   "codemirror_mode": {
    "name": "ipython",
    "version": 3
   },
   "file_extension": ".py",
   "mimetype": "text/x-python",
   "name": "python",
   "nbconvert_exporter": "python",
   "pygments_lexer": "ipython3",
   "version": "3.13.3"
  }
 },
 "nbformat": 4,
 "nbformat_minor": 5
}
